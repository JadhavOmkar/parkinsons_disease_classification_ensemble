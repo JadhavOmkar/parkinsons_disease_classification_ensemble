{
 "cells": [
  {
   "cell_type": "markdown",
   "metadata": {
    "colab_type": "text",
    "id": "KUqYT-w2tZ8k"
   },
   "source": [
    "## **Detecting Parkinsons Disease with Machine Learing**"
   ]
  },
  {
   "cell_type": "markdown",
   "metadata": {
    "colab_type": "text",
    "id": "BqED9HuEuaoR"
   },
   "source": [
    "![alt text](https://www.elderresearch.com/hs-fs/hubfs/BLOG_Parkinson%E2%80%99s%20Test%20Recommendation%20Engine.jpg?width=850&name=BLOG_Parkinson%E2%80%99s%20Test%20Recommendation%20Engine.jpg)"
   ]
  },
  {
   "cell_type": "markdown",
   "metadata": {},
   "source": [
    "# Inside the Notebook:\n",
    "#####        1. Import  libraries\n",
    "#####        2. Loading helper functions\n",
    "#####         3. Reading data and quick overiew\n",
    "#####         4. Target variables distribution\n",
    "#####         5. Independent variables distribution\n",
    "#####         6. Data preparation\n",
    "#####         7. Training Models\n",
    "#####         8. Creating Meta Classifier\n",
    "#####         9. Enemble models\n",
    "#####         10. Final results"
   ]
  },
  {
   "cell_type": "markdown",
   "metadata": {},
   "source": [
    "## 1. Importing libraries"
   ]
  },
  {
   "cell_type": "code",
   "execution_count": 167,
   "metadata": {
    "colab": {},
    "colab_type": "code",
    "id": "t2afe84T0We8"
   },
   "outputs": [],
   "source": [
    "import pandas as pd                                                         ## for dataframe handling\n",
    "import numpy as np                                                          ## array handling\n",
    "from numpy import set_printoptions\n",
    "import matplotlib.pyplot as plt                                             ## plotting\n",
    "%matplotlib inline\n",
    "import seaborn as sns                                                       ## plotting\n",
    "from statsmodels.stats.outliers_influence import variance_inflation_factor  ## VIF calculation\n",
    "from statsmodels.regression.linear_model import OLS as ols                  ## VIF calculation\n",
    "from sklearn.metrics import accuracy_score                                  ## model evaluation parameters\n",
    "from sklearn.metrics import precision_score, recall_score, confusion_matrix ## model evaluation parameters\n",
    "from sklearn.metrics import f1_score, roc_auc_score, roc_curve,make_scorer  ## model evaluation parameters\n",
    "from sklearn.model_selection import train_test_split,cross_val_score        ## Train Test split\n",
    "from sklearn.svm import SVC                                                 ## SVM\n",
    "from sklearn.linear_model import LogisticRegression                         ## Logistic Regression\n",
    "from sklearn.neighbors import KNeighborsClassifier                          ## K Nearest Neighbour\n",
    "from sklearn.model_selection import GridSearchCV                            ## Grid Search for hyperparameter tunning\n",
    "from sklearn.tree import DecisionTreeClassifier as dt                       ## Decision Tree\n",
    "from sklearn.ensemble import RandomForestClassifier                         ## Random Forest\n",
    "from sklearn.ensemble import StackingClassifier                             ## For creating meta classifier\n",
    "from sklearn.ensemble import GradientBoostingClassifier                     ## Gradient Boosting"
   ]
  },
  {
   "cell_type": "markdown",
   "metadata": {},
   "source": [
    "  "
   ]
  },
  {
   "cell_type": "markdown",
   "metadata": {},
   "source": [
    "  "
   ]
  },
  {
   "cell_type": "markdown",
   "metadata": {},
   "source": [
    "## 2. Loading helper functions"
   ]
  },
  {
   "cell_type": "code",
   "execution_count": 94,
   "metadata": {},
   "outputs": [],
   "source": [
    "def generate_model_report(y_actual, y_predicted):\n",
    "    \"\"\"\n",
    "    Calculate model evaluation parameters with input as actual Y column and predicted Y column\n",
    "    \"\"\"\n",
    "    from sklearn.metrics import accuracy_score ## accuracy calculations\n",
    "    from sklearn.metrics import precision_score, recall_score, confusion_matrix ## model evaluation parameters\n",
    "    from sklearn.metrics import f1_score, roc_auc_score, roc_curve ##some more model evaluation parameters\n",
    "    print(\"Accuracy = \" , accuracy_score(y_actual, y_predicted))\n",
    "    print(\"Precision = \" ,precision_score(y_actual, y_predicted))\n",
    "    print(\"Recall = \" ,recall_score(y_actual, y_predicted))\n",
    "    print(\"F1 Score = \" ,f1_score(y_actual, y_predicted))\n",
    "    pass "
   ]
  },
  {
   "cell_type": "code",
   "execution_count": 95,
   "metadata": {},
   "outputs": [],
   "source": [
    "def run_my_model_log(data,X,y):\n",
    "    \"\"\"\n",
    "    This function will run logistic regression model with the input as dataframe, X and Y. \n",
    "    It will sPDit the data into train and test with test size=0.3\n",
    "    It will give the proportion of 1 and 0 in the dataframe, trainset and testset\n",
    "    It will also calculate the model evaluation parameters and Confusion matrix\n",
    "    \"\"\"\n",
    "    print('\\033[1m Following results are for Logistic Regression \\033[0;0m')\n",
    "\n",
    "    print(\"\\n\")\n",
    "    from sklearn.model_selection import train_test_split\n",
    "    from sklearn import metrics\n",
    "    from sklearn.linear_model import LogisticRegression\n",
    "    x_train, x_test, y_train, y_test = train_test_split(X, y, test_size=0.3, random_state=1)\n",
    "    # Fit the model on train\n",
    "    model = LogisticRegression(solver=\"liblinear\")\n",
    "    model.fit(x_train, y_train)\n",
    "    #predict on test\n",
    "    y_predict = model.predict(x_test)\n",
    "\n",
    "    model_score = model.score(x_test, y_test)\n",
    "    model_score_train=metrics.accuracy_score(y_train,model.predict(x_train))\n",
    "    model_recall_score=metrics.recall_score(y_test, y_predict, average='binary')\n",
    "    model_precision_score=metrics.precision_score(y_test, y_predict, average='binary')\n",
    "    model_f1_score=metrics.f1_score(y_test, y_predict, average='binary')\n",
    "    \n",
    "\n",
    "    print(\"Original PD True Values    : {0} ({1:0.2f}%)\".format(len(data.loc[data['status'] == 1]), (len(data.loc[data['status'] == 1])/len(data.index)) * 100))\n",
    "    print(\"Original PD False Values   : {0} ({1:0.2f}%)\".format(len(data.loc[data['status'] == 0]), (len(data.loc[data['status'] == 0])/len(data.index)) * 100))\n",
    "    print(\"\")\n",
    "    print(\"Training PD True Values    : {0} ({1:0.2f}%)\".format(y_train.value_counts()[1], (y_train.value_counts()[1]/len(y_train)) * 100))\n",
    "    print(\"Training PD False Values   : {0} ({1:0.2f}%)\".format(y_train.value_counts()[0], (y_train.value_counts()[0]/len(y_train)) * 100))\n",
    "    print(\"\")\n",
    "    print(\"Test PD True Values        : {0} ({1:0.2f}%)\".format(y_test.value_counts()[1], (y_test.value_counts()[1]/len(y_test)) * 100))\n",
    "    print(\"Test PD False Values       : {0} ({1:0.2f}%)\".format(y_test.value_counts()[0], (y_test.value_counts()[0]/len(y_test)) * 100))\n",
    "    print(\"\")\n",
    "    \n",
    "    print('The Model Score is {}'.format(round(model_score*100,2)))\n",
    "    print('The Model Score on train set is {}'.format(round(model_score_train*100,2)))\n",
    "    print('The Recall Score for the Model is {}'.format(round(model_recall_score*100,2)))\n",
    "    print('The Precision Score for the Model is {}'.format(round(model_precision_score*100,2)))\n",
    "    print('The F1 Score for the Model is {}'.format(round(model_f1_score*100,2)))\n",
    "    \n",
    "    \n",
    "    print('\\n')\n",
    "\n",
    "    \n",
    "    cm=metrics.confusion_matrix(y_test, y_predict, labels=[1, 0])\n",
    "\n",
    "    df_cm = pd.DataFrame(cm, index = [i for i in [\"1\",\"0\"]],\n",
    "                  columns = [i for i in [\"Predict 1\",\"Predict 0\"]])\n",
    "    plt.figure(figsize = (7,5))\n",
    "    return sns.heatmap(df_cm, annot=True,fmt='g')"
   ]
  },
  {
   "cell_type": "code",
   "execution_count": 96,
   "metadata": {},
   "outputs": [],
   "source": [
    "def run_my_model_knn(X,y,k):\n",
    "    \"\"\"\n",
    "    This function will run KNN algorithm on the data.\n",
    "    \"\"\"\n",
    "    print('\\033[1m Following results are for KNN  \\033[0;0m')\n",
    "    print(\"\\n\")\n",
    "    from sklearn.neighbors import KNeighborsClassifier\n",
    "    from sklearn.model_selection import train_test_split\n",
    "    from scipy.stats import zscore\n",
    "    from sklearn import metrics\n",
    "    # convert the features into z scores \n",
    "    XScaled  = X.apply(zscore)  # convert all attributes to Z scale \n",
    "    #XScaled.describe()\n",
    "    X_train, X_test, y_train, y_test = train_test_split(XScaled, y, test_size=0.30, random_state=1)\n",
    "    kkn_model = KNeighborsClassifier(n_neighbors=  k, weights = 'distance' )\n",
    "    kkn_model.fit(X_train,y_train.values.ravel())\n",
    "    model_score_train=metrics.accuracy_score(y_train,kkn_model.predict(X_train))\n",
    "    print('The Model Accuracy Score on train set is {}'.format(round(model_score_train,2)))\n",
    "    print(\"\\n\")\n",
    "    y_predict=kkn_model.predict(X_test)\n",
    "    generate_model_report(y_test,y_predict)\n",
    "    print(\"\\n\")\n",
    "    conf_mat=pd.crosstab(y_predict, y_test, rownames=['Predicted'], colnames=['Actual'])\n",
    "    print('Confusion Matrix')\n",
    "    print(\"\\n\")\n",
    "    print(conf_mat)\n"
   ]
  },
  {
   "cell_type": "code",
   "execution_count": 97,
   "metadata": {},
   "outputs": [],
   "source": [
    "def run_my_model_nb(X,y):\n",
    "    print('\\033[1m Following results are for Navie Bayes Classifier \\033[0;0m')\n",
    "    print(\"\\n\")\n",
    "    from sklearn.naive_bayes import GaussianNB\n",
    "    from sklearn.model_selection import train_test_split\n",
    "    from sklearn import metrics\n",
    "    X_train, X_test, y_train, y_test = train_test_split(X, y, test_size=0.30, random_state=1)\n",
    "    nb_model = GaussianNB()\n",
    "    nb_model.fit(X_train, y_train.values.ravel())\n",
    "    model_score_train=metrics.accuracy_score(y_train,nb_model.predict(X_train))\n",
    "    print('The Model Accuracy Score on train set is {}'.format(round(model_score_train,2)))\n",
    "    print(\"\\n\")\n",
    "\n",
    "    y_predict=nb_model.predict(X_test)\n",
    "    generate_model_report(y_test,y_predict)\n",
    "    print(\"\\n\")\n",
    "    conf_mat=pd.crosstab(y_predict, y_test, rownames=['Predicted'], colnames=['Actual'])\n",
    "    print('Confusion Matrix')\n",
    "    print(\"\\n\")\n",
    "    print(conf_mat)\n"
   ]
  },
  {
   "cell_type": "code",
   "execution_count": 98,
   "metadata": {},
   "outputs": [],
   "source": [
    "def run_my_model_svm(X,y,g,c):\n",
    "    print('\\033[1m Following results are for SVM Classifier \\033[0;0m')\n",
    "    print(\"\\n\")\n",
    "    from sklearn import svm\n",
    "    from sklearn import metrics\n",
    "    X_train, X_test, y_train, y_test = train_test_split(X, y, test_size=0.30, random_state=1)\n",
    "    svm_model = svm.SVC(gamma=g, C=c)   \n",
    "    svm_model.fit(X_train, y_train.values.ravel())\n",
    "    model_score_train=metrics.accuracy_score(y_train,svm_model.predict(X_train))\n",
    "    print('The Model Accuracy Score on train set is {}'.format(round(model_score_train,2)))\n",
    "    print(\"\\n\")\n",
    "\n",
    "    y_predict=svm_model.predict(X_test)\n",
    "    generate_model_report(y_test,y_predict)\n",
    "    print(\"\\n\")\n",
    "    conf_mat=pd.crosstab(y_predict, y_test, rownames=['Predicted'], colnames=['Actual'])\n",
    "    print('Confusion Matrix')\n",
    "    print(\"\\n\")\n",
    "    print(conf_mat)\n"
   ]
  },
  {
   "cell_type": "code",
   "execution_count": 99,
   "metadata": {},
   "outputs": [],
   "source": [
    "def quick_report(df):\n",
    "\n",
    "  \"\"\" \n",
    "  This function will give a quick overview about dataset shape, dtypes, column names and NULL value count\n",
    "  \n",
    "  \"\"\"\n",
    "  print('Data Types:')\n",
    "  print(df.dtypes)\n",
    "  print(\"----------------------------------------------------------------------\")  \n",
    "  print('Rows and Columns:')\n",
    "  print(df.shape)\n",
    "  print(\"----------------------------------------------------------------------\")  \n",
    "  print('Column Names:')\n",
    "  print(df.columns)\n",
    "  print(\"----------------------------------------------------------------------\")  \n",
    "  print('Number of Null Values:',df.isnull().sum().sum())\n",
    "  #print(df.isnull().sum().sum())"
   ]
  },
  {
   "cell_type": "code",
   "execution_count": 100,
   "metadata": {},
   "outputs": [],
   "source": [
    "def corrank(X):\n",
    "    import itertools\n",
    "    df = pd.DataFrame([[(i,j),X.corr().loc[i,j]] for i,j in list(itertools.combinations(X.corr(), 2))],columns=['pairs','corr'])    \n",
    "    finaldf=df.sort_values(by='corr',ascending=False)\n",
    "    return finaldf"
   ]
  },
  {
   "cell_type": "code",
   "execution_count": 101,
   "metadata": {},
   "outputs": [],
   "source": [
    "def transform_minmaxscaler(x):\n",
    "  \"\"\"\n",
    "  This function will apply minmax transformation on the column input and will return the transformed version of the input parameter \n",
    "  \"\"\"\n",
    "  to_scaled=pd.DataFrame(x)\n",
    "  from sklearn.preprocessing import MinMaxScaler \n",
    "  scaler=MinMaxScaler(copy=False)\n",
    "  to_scaled_minmax = scaler.fit_transform(to_scaled)\n",
    "  to_scaled_minmax=pd.DataFrame(to_scaled_minmax,columns=[to_scaled.columns])\n",
    "  return to_scaled_minmax"
   ]
  },
  {
   "cell_type": "code",
   "execution_count": 102,
   "metadata": {},
   "outputs": [],
   "source": [
    "def vif_cal(input_data):\n",
    "    #x_vars=input_data.drop([dependent_col], axis=1)\n",
    "    x_vars=input_data\n",
    "    xvar_names=x_vars.columns\n",
    "    for i in range(0,xvar_names.shape[0]):\n",
    "        y=x_vars[xvar_names[i]]\n",
    "        x=x_vars[xvar_names.drop(xvar_names[i])]\n",
    "        rsq=ols(endog=y, exog=x, data=x_vars).fit().rsquared\n",
    "        vif=round(1/(1-rsq),2)\n",
    "        print (xvar_names[i], \" VIF = \" , vif)\n",
    "        "
   ]
  },
  {
   "cell_type": "markdown",
   "metadata": {},
   "source": [
    "  "
   ]
  },
  {
   "cell_type": "markdown",
   "metadata": {},
   "source": [
    "  "
   ]
  },
  {
   "cell_type": "markdown",
   "metadata": {},
   "source": [
    "## 3. Reading data and quick overview "
   ]
  },
  {
   "cell_type": "code",
   "execution_count": 89,
   "metadata": {
    "colab": {
     "base_uri": "https://localhost:8080/",
     "height": 122
    },
    "colab_type": "code",
    "id": "stjcsNzf2QwB",
    "outputId": "8e6b53be-7d22-4329-b314-d4034ec760c1"
   },
   "outputs": [],
   "source": [
    "##importing dataset\n",
    "data=pd.read_csv('Parkinsons.csv')"
   ]
  },
  {
   "cell_type": "markdown",
   "metadata": {
    "colab_type": "text",
    "id": "alvb5ah8OgtL"
   },
   "source": [
    "### **Attribute Information:**\n",
    "\n",
    "1. MDVPF0:(Hz):\tAverage vocal fundamental frequency\n",
    "2. MDVP:Fhi:(Hz):\tMaximum vocal fundamental frequency\n",
    "3. MDVP:Flo:(Hz):\tMinimum vocal fundamental frequency\n",
    "4. MDVPJitter(%):\tMDVP jitter in percentage\n",
    "5. MDVPJitter(Abs):MDVP absolute jitter in ms\n",
    "6. MDVPRAP:\t\tMDVP relative amplitude perturbation\n",
    "7. MDVPPPQ:\t\tMDVP five-point period perturbation quotient\n",
    "8. Jitter:DDP:\t\tAverage absolute difference of differences between jitter cycles\n",
    "9. MDVP:Shimmer:\tMDVP local shimmer\n",
    "10. MDVPShimmer(dB):MDVP local shimmer in dB\n",
    "11. Shimmer:APQ3:\tThree-point amplitude perturbation quotient\n",
    "12. Shimmer:APQ5:\tFive-point amplitude perturbation quotient\n",
    "13. MDVP:APQ:\t\tMDVP 11-point amplitude perturbation quotient\n",
    "14. Shimmer:DDA:\tAverage absolute differences between the amplitudes of consecutive periods\n",
    "15. NHR:\t\t\tNoise-to-harmonics ratio\n",
    "16. HNR:\t\t\tHarmonics-to-noise ratio\n",
    "17. RPDE:\t\t\tRecurrence period density entropy measure\n",
    "18. D2:\t\t\t\tCorrelation dimension\n",
    "19. DFA:\t\t\tSignal fractal scaling exponent of detrended fluctuation analysis\n",
    "20. Spread1:\t\tTwo nonlinear measures of fundamental\n",
    "21. Spread2:\t\tFrequency variation\n",
    "22. PPE:\t\t\tPitch period entropy\n",
    "\n",
    "Reference link for more explanantion on the attributes-http://audiologistjobandnotes.blogspot.com/2012/01/mdvp-parameters-explaining-by.html\n",
    "\n"
   ]
  },
  {
   "cell_type": "code",
   "execution_count": 6,
   "metadata": {
    "colab": {
     "base_uri": "https://localhost:8080/",
     "height": 224
    },
    "colab_type": "code",
    "id": "gy_QmA8COHXj",
    "outputId": "0e892746-010e-47c3-b7c8-32f596b5810d"
   },
   "outputs": [
    {
     "data": {
      "text/html": [
       "<div>\n",
       "<style scoped>\n",
       "    .dataframe tbody tr th:only-of-type {\n",
       "        vertical-align: middle;\n",
       "    }\n",
       "\n",
       "    .dataframe tbody tr th {\n",
       "        vertical-align: top;\n",
       "    }\n",
       "\n",
       "    .dataframe thead th {\n",
       "        text-align: right;\n",
       "    }\n",
       "</style>\n",
       "<table border=\"1\" class=\"dataframe\">\n",
       "  <thead>\n",
       "    <tr style=\"text-align: right;\">\n",
       "      <th></th>\n",
       "      <th>name</th>\n",
       "      <th>MDVP:Fo(Hz)</th>\n",
       "      <th>MDVP:Fhi(Hz)</th>\n",
       "      <th>MDVP:Flo(Hz)</th>\n",
       "      <th>MDVP:Jitter(%)</th>\n",
       "      <th>MDVP:Jitter(Abs)</th>\n",
       "      <th>MDVP:RAP</th>\n",
       "      <th>MDVP:PPQ</th>\n",
       "      <th>Jitter:DDP</th>\n",
       "      <th>MDVP:Shimmer</th>\n",
       "      <th>...</th>\n",
       "      <th>Shimmer:DDA</th>\n",
       "      <th>NHR</th>\n",
       "      <th>HNR</th>\n",
       "      <th>status</th>\n",
       "      <th>RPDE</th>\n",
       "      <th>DFA</th>\n",
       "      <th>spread1</th>\n",
       "      <th>spread2</th>\n",
       "      <th>D2</th>\n",
       "      <th>PPE</th>\n",
       "    </tr>\n",
       "  </thead>\n",
       "  <tbody>\n",
       "    <tr>\n",
       "      <th>0</th>\n",
       "      <td>phon_R01_S01_1</td>\n",
       "      <td>119.992</td>\n",
       "      <td>157.302</td>\n",
       "      <td>74.997</td>\n",
       "      <td>0.00784</td>\n",
       "      <td>0.00007</td>\n",
       "      <td>0.00370</td>\n",
       "      <td>0.00554</td>\n",
       "      <td>0.01109</td>\n",
       "      <td>0.04374</td>\n",
       "      <td>...</td>\n",
       "      <td>0.06545</td>\n",
       "      <td>0.02211</td>\n",
       "      <td>21.033</td>\n",
       "      <td>1</td>\n",
       "      <td>0.414783</td>\n",
       "      <td>0.815285</td>\n",
       "      <td>-4.813031</td>\n",
       "      <td>0.266482</td>\n",
       "      <td>2.301442</td>\n",
       "      <td>0.284654</td>\n",
       "    </tr>\n",
       "    <tr>\n",
       "      <th>1</th>\n",
       "      <td>phon_R01_S01_2</td>\n",
       "      <td>122.400</td>\n",
       "      <td>148.650</td>\n",
       "      <td>113.819</td>\n",
       "      <td>0.00968</td>\n",
       "      <td>0.00008</td>\n",
       "      <td>0.00465</td>\n",
       "      <td>0.00696</td>\n",
       "      <td>0.01394</td>\n",
       "      <td>0.06134</td>\n",
       "      <td>...</td>\n",
       "      <td>0.09403</td>\n",
       "      <td>0.01929</td>\n",
       "      <td>19.085</td>\n",
       "      <td>1</td>\n",
       "      <td>0.458359</td>\n",
       "      <td>0.819521</td>\n",
       "      <td>-4.075192</td>\n",
       "      <td>0.335590</td>\n",
       "      <td>2.486855</td>\n",
       "      <td>0.368674</td>\n",
       "    </tr>\n",
       "    <tr>\n",
       "      <th>2</th>\n",
       "      <td>phon_R01_S01_3</td>\n",
       "      <td>116.682</td>\n",
       "      <td>131.111</td>\n",
       "      <td>111.555</td>\n",
       "      <td>0.01050</td>\n",
       "      <td>0.00009</td>\n",
       "      <td>0.00544</td>\n",
       "      <td>0.00781</td>\n",
       "      <td>0.01633</td>\n",
       "      <td>0.05233</td>\n",
       "      <td>...</td>\n",
       "      <td>0.08270</td>\n",
       "      <td>0.01309</td>\n",
       "      <td>20.651</td>\n",
       "      <td>1</td>\n",
       "      <td>0.429895</td>\n",
       "      <td>0.825288</td>\n",
       "      <td>-4.443179</td>\n",
       "      <td>0.311173</td>\n",
       "      <td>2.342259</td>\n",
       "      <td>0.332634</td>\n",
       "    </tr>\n",
       "    <tr>\n",
       "      <th>3</th>\n",
       "      <td>phon_R01_S01_4</td>\n",
       "      <td>116.676</td>\n",
       "      <td>137.871</td>\n",
       "      <td>111.366</td>\n",
       "      <td>0.00997</td>\n",
       "      <td>0.00009</td>\n",
       "      <td>0.00502</td>\n",
       "      <td>0.00698</td>\n",
       "      <td>0.01505</td>\n",
       "      <td>0.05492</td>\n",
       "      <td>...</td>\n",
       "      <td>0.08771</td>\n",
       "      <td>0.01353</td>\n",
       "      <td>20.644</td>\n",
       "      <td>1</td>\n",
       "      <td>0.434969</td>\n",
       "      <td>0.819235</td>\n",
       "      <td>-4.117501</td>\n",
       "      <td>0.334147</td>\n",
       "      <td>2.405554</td>\n",
       "      <td>0.368975</td>\n",
       "    </tr>\n",
       "    <tr>\n",
       "      <th>4</th>\n",
       "      <td>phon_R01_S01_5</td>\n",
       "      <td>116.014</td>\n",
       "      <td>141.781</td>\n",
       "      <td>110.655</td>\n",
       "      <td>0.01284</td>\n",
       "      <td>0.00011</td>\n",
       "      <td>0.00655</td>\n",
       "      <td>0.00908</td>\n",
       "      <td>0.01966</td>\n",
       "      <td>0.06425</td>\n",
       "      <td>...</td>\n",
       "      <td>0.10470</td>\n",
       "      <td>0.01767</td>\n",
       "      <td>19.649</td>\n",
       "      <td>1</td>\n",
       "      <td>0.417356</td>\n",
       "      <td>0.823484</td>\n",
       "      <td>-3.747787</td>\n",
       "      <td>0.234513</td>\n",
       "      <td>2.332180</td>\n",
       "      <td>0.410335</td>\n",
       "    </tr>\n",
       "  </tbody>\n",
       "</table>\n",
       "<p>5 rows × 24 columns</p>\n",
       "</div>"
      ],
      "text/plain": [
       "             name  MDVP:Fo(Hz)  MDVP:Fhi(Hz)  MDVP:Flo(Hz)  MDVP:Jitter(%)  \\\n",
       "0  phon_R01_S01_1      119.992       157.302        74.997         0.00784   \n",
       "1  phon_R01_S01_2      122.400       148.650       113.819         0.00968   \n",
       "2  phon_R01_S01_3      116.682       131.111       111.555         0.01050   \n",
       "3  phon_R01_S01_4      116.676       137.871       111.366         0.00997   \n",
       "4  phon_R01_S01_5      116.014       141.781       110.655         0.01284   \n",
       "\n",
       "   MDVP:Jitter(Abs)  MDVP:RAP  MDVP:PPQ  Jitter:DDP  MDVP:Shimmer  ...  \\\n",
       "0           0.00007   0.00370   0.00554     0.01109       0.04374  ...   \n",
       "1           0.00008   0.00465   0.00696     0.01394       0.06134  ...   \n",
       "2           0.00009   0.00544   0.00781     0.01633       0.05233  ...   \n",
       "3           0.00009   0.00502   0.00698     0.01505       0.05492  ...   \n",
       "4           0.00011   0.00655   0.00908     0.01966       0.06425  ...   \n",
       "\n",
       "   Shimmer:DDA      NHR     HNR  status      RPDE       DFA   spread1  \\\n",
       "0      0.06545  0.02211  21.033       1  0.414783  0.815285 -4.813031   \n",
       "1      0.09403  0.01929  19.085       1  0.458359  0.819521 -4.075192   \n",
       "2      0.08270  0.01309  20.651       1  0.429895  0.825288 -4.443179   \n",
       "3      0.08771  0.01353  20.644       1  0.434969  0.819235 -4.117501   \n",
       "4      0.10470  0.01767  19.649       1  0.417356  0.823484 -3.747787   \n",
       "\n",
       "    spread2        D2       PPE  \n",
       "0  0.266482  2.301442  0.284654  \n",
       "1  0.335590  2.486855  0.368674  \n",
       "2  0.311173  2.342259  0.332634  \n",
       "3  0.334147  2.405554  0.368975  \n",
       "4  0.234513  2.332180  0.410335  \n",
       "\n",
       "[5 rows x 24 columns]"
      ]
     },
     "execution_count": 6,
     "metadata": {},
     "output_type": "execute_result"
    }
   ],
   "source": [
    "data.head()"
   ]
  },
  {
   "cell_type": "code",
   "execution_count": 7,
   "metadata": {
    "colab": {
     "base_uri": "https://localhost:8080/",
     "height": 629
    },
    "colab_type": "code",
    "id": "CzyD8eYtPboR",
    "outputId": "1522a8a4-0f46-4cbe-8bcf-1115787e644c"
   },
   "outputs": [
    {
     "name": "stdout",
     "output_type": "stream",
     "text": [
      "Data Types:\n",
      "name                 object\n",
      "MDVP:Fo(Hz)         float64\n",
      "MDVP:Fhi(Hz)        float64\n",
      "MDVP:Flo(Hz)        float64\n",
      "MDVP:Jitter(%)      float64\n",
      "MDVP:Jitter(Abs)    float64\n",
      "MDVP:RAP            float64\n",
      "MDVP:PPQ            float64\n",
      "Jitter:DDP          float64\n",
      "MDVP:Shimmer        float64\n",
      "MDVP:Shimmer(dB)    float64\n",
      "Shimmer:APQ3        float64\n",
      "Shimmer:APQ5        float64\n",
      "MDVP:APQ            float64\n",
      "Shimmer:DDA         float64\n",
      "NHR                 float64\n",
      "HNR                 float64\n",
      "status                int64\n",
      "RPDE                float64\n",
      "DFA                 float64\n",
      "spread1             float64\n",
      "spread2             float64\n",
      "D2                  float64\n",
      "PPE                 float64\n",
      "dtype: object\n",
      "----------------------------------------------------------------------\n",
      "Rows and Columns:\n",
      "(195, 24)\n",
      "----------------------------------------------------------------------\n",
      "Column Names:\n",
      "Index(['name', 'MDVP:Fo(Hz)', 'MDVP:Fhi(Hz)', 'MDVP:Flo(Hz)', 'MDVP:Jitter(%)',\n",
      "       'MDVP:Jitter(Abs)', 'MDVP:RAP', 'MDVP:PPQ', 'Jitter:DDP',\n",
      "       'MDVP:Shimmer', 'MDVP:Shimmer(dB)', 'Shimmer:APQ3', 'Shimmer:APQ5',\n",
      "       'MDVP:APQ', 'Shimmer:DDA', 'NHR', 'HNR', 'status', 'RPDE', 'DFA',\n",
      "       'spread1', 'spread2', 'D2', 'PPE'],\n",
      "      dtype='object')\n",
      "----------------------------------------------------------------------\n",
      "Number of Null Values: 0\n"
     ]
    }
   ],
   "source": [
    "quick_report(data)"
   ]
  },
  {
   "cell_type": "code",
   "execution_count": 104,
   "metadata": {
    "colab": {},
    "colab_type": "code",
    "id": "0fSogz5wXrk8"
   },
   "outputs": [],
   "source": [
    "new_col_names={ 'MDVP:Fo(Hz)':'Avg_vocal_freq', 'MDVP:Fhi(Hz)':'Highest_vocal_freq', 'MDVP:Flo(Hz)':'Lowest_vocal_freq', 'MDVP:Jitter(%)':'Jitter%',\n",
    "'MDVP:Jitter(Abs)':'Jitter_abs', 'MDVP:RAP':'RAP', 'MDVP:PPQ':'PPQ', 'Jitter:DDP':'DDP','MDVP:Shimmer':'Shimmer', 'MDVP:Shimmer(dB)':'Shimmer_dB', 'Shimmer:APQ3':'APQ3',\n",
    " 'Shimmer:APQ5':'APQ5','MDVP:APQ':'APQ', 'Shimmer:DDA':'DDA'}"
   ]
  },
  {
   "cell_type": "code",
   "execution_count": 105,
   "metadata": {
    "colab": {},
    "colab_type": "code",
    "id": "snxiS_ogUNiy"
   },
   "outputs": [],
   "source": [
    "data=data.rename(new_col_names,axis=1)"
   ]
  },
  {
   "cell_type": "code",
   "execution_count": 106,
   "metadata": {},
   "outputs": [],
   "source": [
    "data.drop('name',axis=1,inplace=True)"
   ]
  },
  {
   "cell_type": "code",
   "execution_count": 16,
   "metadata": {
    "colab": {
     "base_uri": "https://localhost:8080/",
     "height": 762
    },
    "colab_type": "code",
    "id": "l_n2heBs6-ct",
    "outputId": "b9fb983e-fa8d-4d7d-c4f4-c4c09e95b517"
   },
   "outputs": [
    {
     "data": {
      "text/html": [
       "<div>\n",
       "<style scoped>\n",
       "    .dataframe tbody tr th:only-of-type {\n",
       "        vertical-align: middle;\n",
       "    }\n",
       "\n",
       "    .dataframe tbody tr th {\n",
       "        vertical-align: top;\n",
       "    }\n",
       "\n",
       "    .dataframe thead th {\n",
       "        text-align: right;\n",
       "    }\n",
       "</style>\n",
       "<table border=\"1\" class=\"dataframe\">\n",
       "  <thead>\n",
       "    <tr style=\"text-align: right;\">\n",
       "      <th></th>\n",
       "      <th>count</th>\n",
       "      <th>mean</th>\n",
       "      <th>std</th>\n",
       "      <th>min</th>\n",
       "      <th>25%</th>\n",
       "      <th>50%</th>\n",
       "      <th>75%</th>\n",
       "      <th>max</th>\n",
       "    </tr>\n",
       "  </thead>\n",
       "  <tbody>\n",
       "    <tr>\n",
       "      <th>Avg_vocal_freq</th>\n",
       "      <td>195.0</td>\n",
       "      <td>154.228641</td>\n",
       "      <td>41.390065</td>\n",
       "      <td>88.333000</td>\n",
       "      <td>117.572000</td>\n",
       "      <td>148.790000</td>\n",
       "      <td>182.769000</td>\n",
       "      <td>260.105000</td>\n",
       "    </tr>\n",
       "    <tr>\n",
       "      <th>Highest_vocal_freq</th>\n",
       "      <td>195.0</td>\n",
       "      <td>197.104918</td>\n",
       "      <td>91.491548</td>\n",
       "      <td>102.145000</td>\n",
       "      <td>134.862500</td>\n",
       "      <td>175.829000</td>\n",
       "      <td>224.205500</td>\n",
       "      <td>592.030000</td>\n",
       "    </tr>\n",
       "    <tr>\n",
       "      <th>Lowest_vocal_freq</th>\n",
       "      <td>195.0</td>\n",
       "      <td>116.324631</td>\n",
       "      <td>43.521413</td>\n",
       "      <td>65.476000</td>\n",
       "      <td>84.291000</td>\n",
       "      <td>104.315000</td>\n",
       "      <td>140.018500</td>\n",
       "      <td>239.170000</td>\n",
       "    </tr>\n",
       "    <tr>\n",
       "      <th>Jitter%</th>\n",
       "      <td>195.0</td>\n",
       "      <td>0.006220</td>\n",
       "      <td>0.004848</td>\n",
       "      <td>0.001680</td>\n",
       "      <td>0.003460</td>\n",
       "      <td>0.004940</td>\n",
       "      <td>0.007365</td>\n",
       "      <td>0.033160</td>\n",
       "    </tr>\n",
       "    <tr>\n",
       "      <th>Jitter_abs</th>\n",
       "      <td>195.0</td>\n",
       "      <td>0.000044</td>\n",
       "      <td>0.000035</td>\n",
       "      <td>0.000007</td>\n",
       "      <td>0.000020</td>\n",
       "      <td>0.000030</td>\n",
       "      <td>0.000060</td>\n",
       "      <td>0.000260</td>\n",
       "    </tr>\n",
       "    <tr>\n",
       "      <th>RAP</th>\n",
       "      <td>195.0</td>\n",
       "      <td>0.003306</td>\n",
       "      <td>0.002968</td>\n",
       "      <td>0.000680</td>\n",
       "      <td>0.001660</td>\n",
       "      <td>0.002500</td>\n",
       "      <td>0.003835</td>\n",
       "      <td>0.021440</td>\n",
       "    </tr>\n",
       "    <tr>\n",
       "      <th>PPQ</th>\n",
       "      <td>195.0</td>\n",
       "      <td>0.003446</td>\n",
       "      <td>0.002759</td>\n",
       "      <td>0.000920</td>\n",
       "      <td>0.001860</td>\n",
       "      <td>0.002690</td>\n",
       "      <td>0.003955</td>\n",
       "      <td>0.019580</td>\n",
       "    </tr>\n",
       "    <tr>\n",
       "      <th>DDP</th>\n",
       "      <td>195.0</td>\n",
       "      <td>0.009920</td>\n",
       "      <td>0.008903</td>\n",
       "      <td>0.002040</td>\n",
       "      <td>0.004985</td>\n",
       "      <td>0.007490</td>\n",
       "      <td>0.011505</td>\n",
       "      <td>0.064330</td>\n",
       "    </tr>\n",
       "    <tr>\n",
       "      <th>Shimmer</th>\n",
       "      <td>195.0</td>\n",
       "      <td>0.029709</td>\n",
       "      <td>0.018857</td>\n",
       "      <td>0.009540</td>\n",
       "      <td>0.016505</td>\n",
       "      <td>0.022970</td>\n",
       "      <td>0.037885</td>\n",
       "      <td>0.119080</td>\n",
       "    </tr>\n",
       "    <tr>\n",
       "      <th>Shimmer_dB</th>\n",
       "      <td>195.0</td>\n",
       "      <td>0.282251</td>\n",
       "      <td>0.194877</td>\n",
       "      <td>0.085000</td>\n",
       "      <td>0.148500</td>\n",
       "      <td>0.221000</td>\n",
       "      <td>0.350000</td>\n",
       "      <td>1.302000</td>\n",
       "    </tr>\n",
       "    <tr>\n",
       "      <th>APQ3</th>\n",
       "      <td>195.0</td>\n",
       "      <td>0.015664</td>\n",
       "      <td>0.010153</td>\n",
       "      <td>0.004550</td>\n",
       "      <td>0.008245</td>\n",
       "      <td>0.012790</td>\n",
       "      <td>0.020265</td>\n",
       "      <td>0.056470</td>\n",
       "    </tr>\n",
       "    <tr>\n",
       "      <th>APQ5</th>\n",
       "      <td>195.0</td>\n",
       "      <td>0.017878</td>\n",
       "      <td>0.012024</td>\n",
       "      <td>0.005700</td>\n",
       "      <td>0.009580</td>\n",
       "      <td>0.013470</td>\n",
       "      <td>0.022380</td>\n",
       "      <td>0.079400</td>\n",
       "    </tr>\n",
       "    <tr>\n",
       "      <th>APQ</th>\n",
       "      <td>195.0</td>\n",
       "      <td>0.024081</td>\n",
       "      <td>0.016947</td>\n",
       "      <td>0.007190</td>\n",
       "      <td>0.013080</td>\n",
       "      <td>0.018260</td>\n",
       "      <td>0.029400</td>\n",
       "      <td>0.137780</td>\n",
       "    </tr>\n",
       "    <tr>\n",
       "      <th>DDA</th>\n",
       "      <td>195.0</td>\n",
       "      <td>0.046993</td>\n",
       "      <td>0.030459</td>\n",
       "      <td>0.013640</td>\n",
       "      <td>0.024735</td>\n",
       "      <td>0.038360</td>\n",
       "      <td>0.060795</td>\n",
       "      <td>0.169420</td>\n",
       "    </tr>\n",
       "    <tr>\n",
       "      <th>NHR</th>\n",
       "      <td>195.0</td>\n",
       "      <td>0.024847</td>\n",
       "      <td>0.040418</td>\n",
       "      <td>0.000650</td>\n",
       "      <td>0.005925</td>\n",
       "      <td>0.011660</td>\n",
       "      <td>0.025640</td>\n",
       "      <td>0.314820</td>\n",
       "    </tr>\n",
       "    <tr>\n",
       "      <th>HNR</th>\n",
       "      <td>195.0</td>\n",
       "      <td>21.885974</td>\n",
       "      <td>4.425764</td>\n",
       "      <td>8.441000</td>\n",
       "      <td>19.198000</td>\n",
       "      <td>22.085000</td>\n",
       "      <td>25.075500</td>\n",
       "      <td>33.047000</td>\n",
       "    </tr>\n",
       "    <tr>\n",
       "      <th>status</th>\n",
       "      <td>195.0</td>\n",
       "      <td>0.753846</td>\n",
       "      <td>0.431878</td>\n",
       "      <td>0.000000</td>\n",
       "      <td>1.000000</td>\n",
       "      <td>1.000000</td>\n",
       "      <td>1.000000</td>\n",
       "      <td>1.000000</td>\n",
       "    </tr>\n",
       "    <tr>\n",
       "      <th>RPDE</th>\n",
       "      <td>195.0</td>\n",
       "      <td>0.498536</td>\n",
       "      <td>0.103942</td>\n",
       "      <td>0.256570</td>\n",
       "      <td>0.421306</td>\n",
       "      <td>0.495954</td>\n",
       "      <td>0.587562</td>\n",
       "      <td>0.685151</td>\n",
       "    </tr>\n",
       "    <tr>\n",
       "      <th>DFA</th>\n",
       "      <td>195.0</td>\n",
       "      <td>0.718099</td>\n",
       "      <td>0.055336</td>\n",
       "      <td>0.574282</td>\n",
       "      <td>0.674758</td>\n",
       "      <td>0.722254</td>\n",
       "      <td>0.761881</td>\n",
       "      <td>0.825288</td>\n",
       "    </tr>\n",
       "    <tr>\n",
       "      <th>spread1</th>\n",
       "      <td>195.0</td>\n",
       "      <td>-5.684397</td>\n",
       "      <td>1.090208</td>\n",
       "      <td>-7.964984</td>\n",
       "      <td>-6.450096</td>\n",
       "      <td>-5.720868</td>\n",
       "      <td>-5.046192</td>\n",
       "      <td>-2.434031</td>\n",
       "    </tr>\n",
       "    <tr>\n",
       "      <th>spread2</th>\n",
       "      <td>195.0</td>\n",
       "      <td>0.226510</td>\n",
       "      <td>0.083406</td>\n",
       "      <td>0.006274</td>\n",
       "      <td>0.174351</td>\n",
       "      <td>0.218885</td>\n",
       "      <td>0.279234</td>\n",
       "      <td>0.450493</td>\n",
       "    </tr>\n",
       "    <tr>\n",
       "      <th>D2</th>\n",
       "      <td>195.0</td>\n",
       "      <td>2.381826</td>\n",
       "      <td>0.382799</td>\n",
       "      <td>1.423287</td>\n",
       "      <td>2.099125</td>\n",
       "      <td>2.361532</td>\n",
       "      <td>2.636456</td>\n",
       "      <td>3.671155</td>\n",
       "    </tr>\n",
       "    <tr>\n",
       "      <th>PPE</th>\n",
       "      <td>195.0</td>\n",
       "      <td>0.206552</td>\n",
       "      <td>0.090119</td>\n",
       "      <td>0.044539</td>\n",
       "      <td>0.137451</td>\n",
       "      <td>0.194052</td>\n",
       "      <td>0.252980</td>\n",
       "      <td>0.527367</td>\n",
       "    </tr>\n",
       "  </tbody>\n",
       "</table>\n",
       "</div>"
      ],
      "text/plain": [
       "                    count        mean        std         min         25%  \\\n",
       "Avg_vocal_freq      195.0  154.228641  41.390065   88.333000  117.572000   \n",
       "Highest_vocal_freq  195.0  197.104918  91.491548  102.145000  134.862500   \n",
       "Lowest_vocal_freq   195.0  116.324631  43.521413   65.476000   84.291000   \n",
       "Jitter%             195.0    0.006220   0.004848    0.001680    0.003460   \n",
       "Jitter_abs          195.0    0.000044   0.000035    0.000007    0.000020   \n",
       "RAP                 195.0    0.003306   0.002968    0.000680    0.001660   \n",
       "PPQ                 195.0    0.003446   0.002759    0.000920    0.001860   \n",
       "DDP                 195.0    0.009920   0.008903    0.002040    0.004985   \n",
       "Shimmer             195.0    0.029709   0.018857    0.009540    0.016505   \n",
       "Shimmer_dB          195.0    0.282251   0.194877    0.085000    0.148500   \n",
       "APQ3                195.0    0.015664   0.010153    0.004550    0.008245   \n",
       "APQ5                195.0    0.017878   0.012024    0.005700    0.009580   \n",
       "APQ                 195.0    0.024081   0.016947    0.007190    0.013080   \n",
       "DDA                 195.0    0.046993   0.030459    0.013640    0.024735   \n",
       "NHR                 195.0    0.024847   0.040418    0.000650    0.005925   \n",
       "HNR                 195.0   21.885974   4.425764    8.441000   19.198000   \n",
       "status              195.0    0.753846   0.431878    0.000000    1.000000   \n",
       "RPDE                195.0    0.498536   0.103942    0.256570    0.421306   \n",
       "DFA                 195.0    0.718099   0.055336    0.574282    0.674758   \n",
       "spread1             195.0   -5.684397   1.090208   -7.964984   -6.450096   \n",
       "spread2             195.0    0.226510   0.083406    0.006274    0.174351   \n",
       "D2                  195.0    2.381826   0.382799    1.423287    2.099125   \n",
       "PPE                 195.0    0.206552   0.090119    0.044539    0.137451   \n",
       "\n",
       "                           50%         75%         max  \n",
       "Avg_vocal_freq      148.790000  182.769000  260.105000  \n",
       "Highest_vocal_freq  175.829000  224.205500  592.030000  \n",
       "Lowest_vocal_freq   104.315000  140.018500  239.170000  \n",
       "Jitter%               0.004940    0.007365    0.033160  \n",
       "Jitter_abs            0.000030    0.000060    0.000260  \n",
       "RAP                   0.002500    0.003835    0.021440  \n",
       "PPQ                   0.002690    0.003955    0.019580  \n",
       "DDP                   0.007490    0.011505    0.064330  \n",
       "Shimmer               0.022970    0.037885    0.119080  \n",
       "Shimmer_dB            0.221000    0.350000    1.302000  \n",
       "APQ3                  0.012790    0.020265    0.056470  \n",
       "APQ5                  0.013470    0.022380    0.079400  \n",
       "APQ                   0.018260    0.029400    0.137780  \n",
       "DDA                   0.038360    0.060795    0.169420  \n",
       "NHR                   0.011660    0.025640    0.314820  \n",
       "HNR                  22.085000   25.075500   33.047000  \n",
       "status                1.000000    1.000000    1.000000  \n",
       "RPDE                  0.495954    0.587562    0.685151  \n",
       "DFA                   0.722254    0.761881    0.825288  \n",
       "spread1              -5.720868   -5.046192   -2.434031  \n",
       "spread2               0.218885    0.279234    0.450493  \n",
       "D2                    2.361532    2.636456    3.671155  \n",
       "PPE                   0.194052    0.252980    0.527367  "
      ]
     },
     "execution_count": 16,
     "metadata": {},
     "output_type": "execute_result"
    }
   ],
   "source": [
    "data.describe().transpose()"
   ]
  },
  {
   "cell_type": "markdown",
   "metadata": {},
   "source": [
    "### **Overview of the dataframe**\n",
    "\n",
    "1.   We have data for 195 individuals across 24 attributes\n",
    "2.   75% of the individuals are diagnosed by Parkinson\n",
    "3.   By the nature of the data or the underline problem statement, we expect zero null values and same is the case with the underline data. We have zero null values\n",
    "4.   Few attributes seems to be drived from others, which indicates that we might need to check the multicollinearity within the predictors.\n",
    "5.   All attributes are observed to be numeric in nature and are on different scale. We should consider scalling the data before building model on it"
   ]
  },
  {
   "cell_type": "markdown",
   "metadata": {},
   "source": [
    "  "
   ]
  },
  {
   "cell_type": "markdown",
   "metadata": {},
   "source": [
    "  "
   ]
  },
  {
   "cell_type": "markdown",
   "metadata": {},
   "source": [
    "## 4. Target variable distribution"
   ]
  },
  {
   "cell_type": "code",
   "execution_count": 8,
   "metadata": {},
   "outputs": [
    {
     "data": {
      "text/plain": [
       "1    75.384615\n",
       "0    24.615385\n",
       "Name: status, dtype: float64"
      ]
     },
     "execution_count": 8,
     "metadata": {},
     "output_type": "execute_result"
    }
   ],
   "source": [
    "data['status'].value_counts(normalize=True)*100"
   ]
  },
  {
   "cell_type": "markdown",
   "metadata": {},
   "source": [
    "#### 75% of the individuals are diagnosed with Parkinsons disease. Only 25% of the individuals in the dataframe are negative which indicates that we have minor class imbalance problem. We might face an issue where the model is predicting all cases as Positive which in return will give us high Recall score but the number of False Positive cases will be more."
   ]
  },
  {
   "cell_type": "markdown",
   "metadata": {},
   "source": [
    "  "
   ]
  },
  {
   "cell_type": "markdown",
   "metadata": {},
   "source": [
    "  "
   ]
  },
  {
   "cell_type": "markdown",
   "metadata": {},
   "source": [
    "## 5. Independent variables distribution"
   ]
  },
  {
   "cell_type": "markdown",
   "metadata": {},
   "source": [
    "#### 5.1 Distributions for all variables (Histogram)"
   ]
  },
  {
   "cell_type": "code",
   "execution_count": 81,
   "metadata": {},
   "outputs": [
    {
     "data": {
      "text/plain": [
       "array([[<matplotlib.axes._subplots.AxesSubplot object at 0x000002560507EA58>,\n",
       "        <matplotlib.axes._subplots.AxesSubplot object at 0x0000025614931FD0>,\n",
       "        <matplotlib.axes._subplots.AxesSubplot object at 0x000002561492A8D0>,\n",
       "        <matplotlib.axes._subplots.AxesSubplot object at 0x0000025602226BA8>,\n",
       "        <matplotlib.axes._subplots.AxesSubplot object at 0x000002561A899198>],\n",
       "       [<matplotlib.axes._subplots.AxesSubplot object at 0x00000256048E1748>,\n",
       "        <matplotlib.axes._subplots.AxesSubplot object at 0x0000025604CC3CF8>,\n",
       "        <matplotlib.axes._subplots.AxesSubplot object at 0x0000025602606320>,\n",
       "        <matplotlib.axes._subplots.AxesSubplot object at 0x0000025602606358>,\n",
       "        <matplotlib.axes._subplots.AxesSubplot object at 0x000002561B14CE48>],\n",
       "       [<matplotlib.axes._subplots.AxesSubplot object at 0x000002561AE9A438>,\n",
       "        <matplotlib.axes._subplots.AxesSubplot object at 0x00000256145971D0>,\n",
       "        <matplotlib.axes._subplots.AxesSubplot object at 0x000002560509F4E0>,\n",
       "        <matplotlib.axes._subplots.AxesSubplot object at 0x000002561B5310B8>,\n",
       "        <matplotlib.axes._subplots.AxesSubplot object at 0x00000256012060B8>],\n",
       "       [<matplotlib.axes._subplots.AxesSubplot object at 0x000002561B525AC8>,\n",
       "        <matplotlib.axes._subplots.AxesSubplot object at 0x000002560F9B6320>,\n",
       "        <matplotlib.axes._subplots.AxesSubplot object at 0x000002560F99E5C0>,\n",
       "        <matplotlib.axes._subplots.AxesSubplot object at 0x0000025615F90438>,\n",
       "        <matplotlib.axes._subplots.AxesSubplot object at 0x0000025608D418D0>],\n",
       "       [<matplotlib.axes._subplots.AxesSubplot object at 0x000002560E25BDA0>,\n",
       "        <matplotlib.axes._subplots.AxesSubplot object at 0x000002560F6869E8>,\n",
       "        <matplotlib.axes._subplots.AxesSubplot object at 0x0000025600CC9908>,\n",
       "        <matplotlib.axes._subplots.AxesSubplot object at 0x00000256115C2AC8>,\n",
       "        <matplotlib.axes._subplots.AxesSubplot object at 0x00000256011F23C8>]],\n",
       "      dtype=object)"
      ]
     },
     "execution_count": 81,
     "metadata": {},
     "output_type": "execute_result"
    },
    {
     "data": {
      "image/png": "[encoded data removed]",
      "text/plain": [
       "<Figure size 792x792 with 25 Axes>"
      ]
     },
     "metadata": {
      "needs_background": "light"
     },
     "output_type": "display_data"
    }
   ],
   "source": [
    "## Histogram for all predictors\n",
    "cols=list(data.columns)\n",
    "df = data[cols]\n",
    "df[df.dtypes[(df.dtypes==\"float64\")].index.values].hist(figsize=[11,11])"
   ]
  },
  {
   "cell_type": "markdown",
   "metadata": {},
   "source": [
    "  "
   ]
  },
  {
   "cell_type": "markdown",
   "metadata": {},
   "source": [
    "#### 5.2 Outlier detection (Boxplot's)"
   ]
  },
  {
   "cell_type": "code",
   "execution_count": 80,
   "metadata": {},
   "outputs": [
    {
     "data": {
      "image/png": "[encoded data removed]",
      "text/plain": [
       "<Figure size 432x288 with 1 Axes>"
      ]
     },
     "metadata": {
      "needs_background": "light"
     },
     "output_type": "display_data"
    },
    {
     "data": {
      "image/png": "[encoded data removed]",
      "text/plain": [
       "<Figure size 432x288 with 1 Axes>"
      ]
     },
     "metadata": {
      "needs_background": "light"
     },
     "output_type": "display_data"
    },
    {
     "data": {
      "image/png": "[encoded data removed]",
      "text/plain": [
       "<Figure size 432x288 with 1 Axes>"
      ]
     },
     "metadata": {
      "needs_background": "light"
     },
     "output_type": "display_data"
    },
    {
     "data": {
      "image/png": "[encoded data removed]",
      "text/plain": [
       "<Figure size 432x288 with 1 Axes>"
      ]
     },
     "metadata": {
      "needs_background": "light"
     },
     "output_type": "display_data"
    },
    {
     "data": {
      "image/png": "[encoded data removed]",
      "text/plain": [
       "<Figure size 432x288 with 1 Axes>"
      ]
     },
     "metadata": {
      "needs_background": "light"
     },
     "output_type": "display_data"
    },
    {
     "data": {
      "image/png": "[encoded data removed]",
      "text/plain": [
       "<Figure size 432x288 with 1 Axes>"
      ]
     },
     "metadata": {
      "needs_background": "light"
     },
     "output_type": "display_data"
    },
    {
     "data": {
      "image/png": "[encoded data removed]",
      "text/plain": [
       "<Figure size 432x288 with 1 Axes>"
      ]
     },
     "metadata": {
      "needs_background": "light"
     },
     "output_type": "display_data"
    },
    {
     "data": {
      "image/png": "[encoded data removed]",
      "text/plain": [
       "<Figure size 432x288 with 1 Axes>"
      ]
     },
     "metadata": {
      "needs_background": "light"
     },
     "output_type": "display_data"
    },
    {
     "data": {
      "image/png": "[encoded data removed]",
      "text/plain": [
       "<Figure size 432x288 with 1 Axes>"
      ]
     },
     "metadata": {
      "needs_background": "light"
     },
     "output_type": "display_data"
    },
    {
     "data": {
      "image/png": "[encoded data removed]",
      "text/plain": [
       "<Figure size 432x288 with 1 Axes>"
      ]
     },
     "metadata": {
      "needs_background": "light"
     },
     "output_type": "display_data"
    },
    {
     "data": {
      "image/png": "[encoded data removed]",
      "text/plain": [
       "<Figure size 432x288 with 1 Axes>"
      ]
     },
     "metadata": {
      "needs_background": "light"
     },
     "output_type": "display_data"
    },
    {
     "data": {
      "image/png": "[encoded data removed]",
      "text/plain": [
       "<Figure size 432x288 with 1 Axes>"
      ]
     },
     "metadata": {
      "needs_background": "light"
     },
     "output_type": "display_data"
    },
    {
     "data": {
      "image/png": "[encoded data removed]",
      "text/plain": [
       "<Figure size 432x288 with 1 Axes>"
      ]
     },
     "metadata": {
      "needs_background": "light"
     },
     "output_type": "display_data"
    },
    {
     "data": {
      "image/png": "[encoded data removed]",
      "text/plain": [
       "<Figure size 432x288 with 1 Axes>"
      ]
     },
     "metadata": {
      "needs_background": "light"
     },
     "output_type": "display_data"
    },
    {
     "data": {
      "image/png": "[encoded data removed]",
      "text/plain": [
       "<Figure size 432x288 with 1 Axes>"
      ]
     },
     "metadata": {
      "needs_background": "light"
     },
     "output_type": "display_data"
    },
    {
     "data": {
      "image/png": "[encoded data removed]",
      "text/plain": [
       "<Figure size 432x288 with 1 Axes>"
      ]
     },
     "metadata": {
      "needs_background": "light"
     },
     "output_type": "display_data"
    },
    {
     "data": {
      "image/png": "[encoded data removed]",
      "text/plain": [
       "<Figure size 432x288 with 1 Axes>"
      ]
     },
     "metadata": {
      "needs_background": "light"
     },
     "output_type": "display_data"
    },
    {
     "data": {
      "image/png": "[encoded data removed]",
      "text/plain": [
       "<Figure size 432x288 with 1 Axes>"
      ]
     },
     "metadata": {
      "needs_background": "light"
     },
     "output_type": "display_data"
    },
    {
     "data": {
      "image/png": "[encoded data removed]",
      "text/plain": [
       "<Figure size 432x288 with 1 Axes>"
      ]
     },
     "metadata": {
      "needs_background": "light"
     },
     "output_type": "display_data"
    },
    {
     "data": {
      "image/png": "[encoded data removed]",
      "text/plain": [
       "<Figure size 432x288 with 1 Axes>"
      ]
     },
     "metadata": {
      "needs_background": "light"
     },
     "output_type": "display_data"
    },
    {
     "data": {
      "image/png": "[encoded data removed]",
      "text/plain": [
       "<Figure size 432x288 with 1 Axes>"
      ]
     },
     "metadata": {
      "needs_background": "light"
     },
     "output_type": "display_data"
    },
    {
     "data": {
      "image/png": "[encoded data removed]",
      "text/plain": [
       "<Figure size 432x288 with 1 Axes>"
      ]
     },
     "metadata": {
      "needs_background": "light"
     },
     "output_type": "display_data"
    },
    {
     "data": {
      "image/png": "[encoded data removed]",
      "text/plain": [
       "<Figure size 432x288 with 1 Axes>"
      ]
     },
     "metadata": {
      "needs_background": "light"
     },
     "output_type": "display_data"
    }
   ],
   "source": [
    "## Boxplot for all predictors\n",
    "plt.rcParams.update({'figure.max_open_warning': 0})\n",
    "for column in data:\n",
    "    plt.figure()\n",
    "    df.boxplot([column])"
   ]
  },
  {
   "cell_type": "markdown",
   "metadata": {},
   "source": [
    "  "
   ]
  },
  {
   "cell_type": "markdown",
   "metadata": {},
   "source": [
    "#### 5.3 Skewwed values "
   ]
  },
  {
   "cell_type": "code",
   "execution_count": 13,
   "metadata": {
    "colab": {
     "base_uri": "https://localhost:8080/",
     "height": 425
    },
    "colab_type": "code",
    "id": "9hsnp2-3FkCJ",
    "outputId": "7bf22d24-ee25-4063-c085-7cad4afa6a9e"
   },
   "outputs": [
    {
     "name": "stdout",
     "output_type": "stream",
     "text": [
      "Skewwed value for Avg_vocal_freq is 0.5917374636540784\n",
      "Skewwed value for Highest_vocal_freq is 2.542145997588398\n",
      "Skewwed value for Lowest_vocal_freq is 1.217350448627808\n",
      "Skewwed value for Jitter% is 3.0849462014441817\n",
      "Skewwed value for Jitter_abs is 2.6490714165257274\n",
      "Skewwed value for RAP is 3.360708450480554\n",
      "Skewwed value for PPQ is 3.073892457888517\n",
      "Skewwed value for DDP is 3.3620584478857203\n",
      "Skewwed value for Shimmer is 1.6664804101559663\n",
      "Skewwed value for Shimmer_dB is 1.999388639086127\n",
      "Skewwed value for APQ3 is 1.5805763798815677\n",
      "Skewwed value for APQ5 is 1.798697066537622\n",
      "Skewwed value for APQ is 2.618046502215422\n",
      "Skewwed value for DDA is 1.5806179936782263\n",
      "Skewwed value for NHR is 4.22070912913906\n",
      "Skewwed value for HNR is -0.5143174975652068\n",
      "Skewwed value for status is -1.1877273855919208\n",
      "Skewwed value for RPDE is -0.14340241379821705\n",
      "Skewwed value for DFA is -0.03321366071383484\n",
      "Skewwed value for spread1 is 0.4321389320131796\n",
      "Skewwed value for spread2 is 0.14443048549278412\n",
      "Skewwed value for D2 is 0.4303838913329283\n",
      "Skewwed value for PPE is 0.7974910716463578\n"
     ]
    }
   ],
   "source": [
    "for col in data.columns:\n",
    "  #df = data[col]\n",
    "  print(\"Skewwed value for {} is {}\".format(col,data[col].skew()))"
   ]
  },
  {
   "cell_type": "markdown",
   "metadata": {
    "colab_type": "text",
    "id": "wzKfHL4FOMzE"
   },
   "source": [
    "**Highest_vocal_freq, Lowest_vocal_freq, Jitter%, Jitter_abs, RAP, PPQ, DDP, Shimmer, Shimmer_dB,APQ3, APQ5, APQ, DDA, NHR are highly skewwed attributes to the right.**"
   ]
  },
  {
   "cell_type": "markdown",
   "metadata": {},
   "source": [
    "#### 5.4 Correlation matrix"
   ]
  },
  {
   "cell_type": "code",
   "execution_count": 14,
   "metadata": {
    "colab": {
     "base_uri": "https://localhost:8080/",
     "height": 1000
    },
    "colab_type": "code",
    "id": "ZxUHVu4DF4C0",
    "outputId": "085b91dd-1542-4e13-e050-957619f84245"
   },
   "outputs": [
    {
     "data": {
      "text/plain": [
       "<matplotlib.axes._subplots.AxesSubplot at 0x13269de5668>"
      ]
     },
     "execution_count": 14,
     "metadata": {},
     "output_type": "execute_result"
    },
    {
     "data": {
      "image/png": "[encoded data removed]",
      "text/plain": [
       "<Figure size 1296x1296 with 2 Axes>"
      ]
     },
     "metadata": {
      "needs_background": "light"
     },
     "output_type": "display_data"
    }
   ],
   "source": [
    "fig_dims = (18, 18)\n",
    "fig, ax = plt.subplots(figsize=fig_dims)\n",
    "corr=data.corr()\n",
    "# Generate a mask for the upper triangle\n",
    "mask = np.triu(np.ones_like(corr, dtype=np.bool))\n",
    "sns.heatmap(corr,mask=mask,annot=True,square=True,ax=ax,cmap=\"YlGnBu\")"
   ]
  },
  {
   "cell_type": "markdown",
   "metadata": {},
   "source": [
    "  "
   ]
  },
  {
   "cell_type": "markdown",
   "metadata": {},
   "source": [
    "#### 5.5 Top 20 highly correlated pairs"
   ]
  },
  {
   "cell_type": "code",
   "execution_count": 65,
   "metadata": {},
   "outputs": [],
   "source": [
    "correlation_df=corrank(data)"
   ]
  },
  {
   "cell_type": "code",
   "execution_count": 69,
   "metadata": {},
   "outputs": [
    {
     "name": "stdout",
     "output_type": "stream",
     "text": [
      "Top 20 highly correlated pairs within the dataframe\n"
     ]
    },
    {
     "data": {
      "text/html": [
       "<div>\n",
       "<style scoped>\n",
       "    .dataframe tbody tr th:only-of-type {\n",
       "        vertical-align: middle;\n",
       "    }\n",
       "\n",
       "    .dataframe tbody tr th {\n",
       "        vertical-align: top;\n",
       "    }\n",
       "\n",
       "    .dataframe thead th {\n",
       "        text-align: right;\n",
       "    }\n",
       "</style>\n",
       "<table border=\"1\" class=\"dataframe\">\n",
       "  <thead>\n",
       "    <tr style=\"text-align: right;\">\n",
       "      <th></th>\n",
       "      <th>pairs</th>\n",
       "      <th>corr</th>\n",
       "    </tr>\n",
       "  </thead>\n",
       "  <tbody>\n",
       "    <tr>\n",
       "      <th>177</th>\n",
       "      <td>(APQ3, DDA)</td>\n",
       "      <td>1.000000</td>\n",
       "    </tr>\n",
       "    <tr>\n",
       "      <th>101</th>\n",
       "      <td>(RAP, DDP)</td>\n",
       "      <td>1.000000</td>\n",
       "    </tr>\n",
       "    <tr>\n",
       "      <th>66</th>\n",
       "      <td>(Jitter%, DDP)</td>\n",
       "      <td>0.990276</td>\n",
       "    </tr>\n",
       "    <tr>\n",
       "      <th>64</th>\n",
       "      <td>(Jitter%, RAP)</td>\n",
       "      <td>0.990276</td>\n",
       "    </tr>\n",
       "    <tr>\n",
       "      <th>152</th>\n",
       "      <td>(Shimmer, DDA)</td>\n",
       "      <td>0.987626</td>\n",
       "    </tr>\n",
       "    <tr>\n",
       "      <th>149</th>\n",
       "      <td>(Shimmer, APQ3)</td>\n",
       "      <td>0.987625</td>\n",
       "    </tr>\n",
       "    <tr>\n",
       "      <th>148</th>\n",
       "      <td>(Shimmer, Shimmer_dB)</td>\n",
       "      <td>0.987258</td>\n",
       "    </tr>\n",
       "    <tr>\n",
       "      <th>150</th>\n",
       "      <td>(Shimmer, APQ5)</td>\n",
       "      <td>0.982835</td>\n",
       "    </tr>\n",
       "    <tr>\n",
       "      <th>65</th>\n",
       "      <td>(Jitter%, PPQ)</td>\n",
       "      <td>0.974256</td>\n",
       "    </tr>\n",
       "    <tr>\n",
       "      <th>163</th>\n",
       "      <td>(Shimmer_dB, APQ5)</td>\n",
       "      <td>0.973751</td>\n",
       "    </tr>\n",
       "    <tr>\n",
       "      <th>165</th>\n",
       "      <td>(Shimmer_dB, DDA)</td>\n",
       "      <td>0.963202</td>\n",
       "    </tr>\n",
       "    <tr>\n",
       "      <th>162</th>\n",
       "      <td>(Shimmer_dB, APQ3)</td>\n",
       "      <td>0.963198</td>\n",
       "    </tr>\n",
       "    <tr>\n",
       "      <th>249</th>\n",
       "      <td>(spread1, PPE)</td>\n",
       "      <td>0.962435</td>\n",
       "    </tr>\n",
       "    <tr>\n",
       "      <th>164</th>\n",
       "      <td>(Shimmer_dB, APQ)</td>\n",
       "      <td>0.960977</td>\n",
       "    </tr>\n",
       "    <tr>\n",
       "      <th>188</th>\n",
       "      <td>(APQ5, DDA)</td>\n",
       "      <td>0.960072</td>\n",
       "    </tr>\n",
       "    <tr>\n",
       "      <th>175</th>\n",
       "      <td>(APQ3, APQ5)</td>\n",
       "      <td>0.960070</td>\n",
       "    </tr>\n",
       "    <tr>\n",
       "      <th>117</th>\n",
       "      <td>(PPQ, DDP)</td>\n",
       "      <td>0.957319</td>\n",
       "    </tr>\n",
       "    <tr>\n",
       "      <th>100</th>\n",
       "      <td>(RAP, PPQ)</td>\n",
       "      <td>0.957317</td>\n",
       "    </tr>\n",
       "    <tr>\n",
       "      <th>151</th>\n",
       "      <td>(Shimmer, APQ)</td>\n",
       "      <td>0.950083</td>\n",
       "    </tr>\n",
       "    <tr>\n",
       "      <th>187</th>\n",
       "      <td>(APQ5, APQ)</td>\n",
       "      <td>0.949146</td>\n",
       "    </tr>\n",
       "  </tbody>\n",
       "</table>\n",
       "</div>"
      ],
      "text/plain": [
       "                     pairs      corr\n",
       "177            (APQ3, DDA)  1.000000\n",
       "101             (RAP, DDP)  1.000000\n",
       "66          (Jitter%, DDP)  0.990276\n",
       "64          (Jitter%, RAP)  0.990276\n",
       "152         (Shimmer, DDA)  0.987626\n",
       "149        (Shimmer, APQ3)  0.987625\n",
       "148  (Shimmer, Shimmer_dB)  0.987258\n",
       "150        (Shimmer, APQ5)  0.982835\n",
       "65          (Jitter%, PPQ)  0.974256\n",
       "163     (Shimmer_dB, APQ5)  0.973751\n",
       "165      (Shimmer_dB, DDA)  0.963202\n",
       "162     (Shimmer_dB, APQ3)  0.963198\n",
       "249         (spread1, PPE)  0.962435\n",
       "164      (Shimmer_dB, APQ)  0.960977\n",
       "188            (APQ5, DDA)  0.960072\n",
       "175           (APQ3, APQ5)  0.960070\n",
       "117             (PPQ, DDP)  0.957319\n",
       "100             (RAP, PPQ)  0.957317\n",
       "151         (Shimmer, APQ)  0.950083\n",
       "187            (APQ5, APQ)  0.949146"
      ]
     },
     "execution_count": 69,
     "metadata": {},
     "output_type": "execute_result"
    }
   ],
   "source": [
    "print(\"Top 20 highly correlated pairs within the dataframe\")\n",
    "correlation_df.head(20)"
   ]
  },
  {
   "cell_type": "markdown",
   "metadata": {},
   "source": [
    "  "
   ]
  },
  {
   "cell_type": "markdown",
   "metadata": {},
   "source": [
    "#### 5.6 Target variable distribution across different predictors"
   ]
  },
  {
   "cell_type": "code",
   "execution_count": 6,
   "metadata": {},
   "outputs": [
    {
     "data": {
      "text/plain": [
       "<seaborn.axisgrid.FacetGrid at 0x2bd787a5240>"
      ]
     },
     "execution_count": 6,
     "metadata": {},
     "output_type": "execute_result"
    },
    {
     "data": {
      "image/png": "[encoded data removed]",
      "text/plain": [
       "<Figure size 906.375x216 with 1 Axes>"
      ]
     },
     "metadata": {
      "needs_background": "light"
     },
     "output_type": "display_data"
    }
   ],
   "source": [
    "fig = sns.FacetGrid(data,hue='status',aspect=4)\n",
    "fig.map(sns.kdeplot,'spread1',shade=True)\n",
    "fig.add_legend()"
   ]
  },
  {
   "cell_type": "code",
   "execution_count": null,
   "metadata": {},
   "outputs": [],
   "source": [
    "##'Avg_vocal_freq','Highest_vocal_freq','Lowest_vocal_freq','APQ','NHR','RPDE','DFA'"
   ]
  },
  {
   "cell_type": "code",
   "execution_count": 7,
   "metadata": {},
   "outputs": [
    {
     "data": {
      "text/plain": [
       "<seaborn.axisgrid.FacetGrid at 0x2bd78a85e80>"
      ]
     },
     "execution_count": 7,
     "metadata": {},
     "output_type": "execute_result"
    },
    {
     "data": {
      "image/png": "[encoded data removed]",
      "text/plain": [
       "<Figure size 906.375x216 with 1 Axes>"
      ]
     },
     "metadata": {
      "needs_background": "light"
     },
     "output_type": "display_data"
    }
   ],
   "source": [
    "fig = sns.FacetGrid(data,hue='status',aspect=4)\n",
    "fig.map(sns.kdeplot,'APQ',shade=True)\n",
    "fig.add_legend()"
   ]
  },
  {
   "cell_type": "code",
   "execution_count": 25,
   "metadata": {},
   "outputs": [],
   "source": [
    "cols=['Avg_vocal_freq','Highest_vocal_freq','Lowest_vocal_freq','APQ','NHR','RPDE','DFA']"
   ]
  },
  {
   "cell_type": "code",
   "execution_count": 26,
   "metadata": {},
   "outputs": [
    {
     "data": {
      "image/png": "[encoded data removed]",
      "text/plain": [
       "<Figure size 906.375x216 with 1 Axes>"
      ]
     },
     "metadata": {
      "needs_background": "light"
     },
     "output_type": "display_data"
    },
    {
     "data": {
      "image/png": "[encoded data removed]",
      "text/plain": [
       "<Figure size 906.375x216 with 1 Axes>"
      ]
     },
     "metadata": {
      "needs_background": "light"
     },
     "output_type": "display_data"
    },
    {
     "data": {
      "image/png": "[encoded data removed]",
      "text/plain": [
       "<Figure size 906.375x216 with 1 Axes>"
      ]
     },
     "metadata": {
      "needs_background": "light"
     },
     "output_type": "display_data"
    },
    {
     "data": {
      "image/png": "[encoded data removed]",
      "text/plain": [
       "<Figure size 906.375x216 with 1 Axes>"
      ]
     },
     "metadata": {
      "needs_background": "light"
     },
     "output_type": "display_data"
    },
    {
     "data": {
      "image/png": "[encoded data removed]",
      "text/plain": [
       "<Figure size 906.375x216 with 1 Axes>"
      ]
     },
     "metadata": {
      "needs_background": "light"
     },
     "output_type": "display_data"
    },
    {
     "data": {
      "image/png": "[encoded data removed]",
      "text/plain": [
       "<Figure size 906.375x216 with 1 Axes>"
      ]
     },
     "metadata": {
      "needs_background": "light"
     },
     "output_type": "display_data"
    },
    {
     "data": {
      "image/png": "[encoded data removed]",
      "text/plain": [
       "<Figure size 906.375x216 with 1 Axes>"
      ]
     },
     "metadata": {
      "needs_background": "light"
     },
     "output_type": "display_data"
    }
   ],
   "source": [
    "for col in cols:\n",
    "    fig = sns.FacetGrid(data,hue='status',aspect=4)\n",
    "    fig.map(sns.kdeplot,col,shade=True)\n",
    "    fig.add_legend()"
   ]
  },
  {
   "cell_type": "markdown",
   "metadata": {},
   "source": [
    "  "
   ]
  },
  {
   "cell_type": "markdown",
   "metadata": {},
   "source": [
    "### **Observations on Independent variables**\n",
    "\n",
    "1.   Many of the independent variables are having skewed distribution which is been indicated in the histogram plot in point 5.1 and since the dsitribution is skewed, the tail region will act as outlier which is the case with some variables. This can observed from the boxplots across independent variables in point 5.2\n",
    "2.  Highest_vocal_freq, Lowest_vocal_freq, Jitter%, Jitter_abs, RAP, PPQ, DDP, Shimmer, Shimmer_dB,APQ3, APQ5, APQ, DDA, NHR are highly skewwed attributes to the right.   \n",
    "3.   Since, many of the independent variables are being derived, correlation within them needs to be measured. In correlation plot from point 5.3, it is pretty much evident that there are some predictors which are correlated with more than one variable. \n",
    "4.   Point 5.5 represents the Top 20 highest correlated pairs within the data. APQ3, DDA and RAP, DDP are the two pairs showing the highest correlation .i.e 1 within each other. Shimmer and amplitude perturbation quotient are the two variables which are correlated with many variables among the top 20."
   ]
  },
  {
   "cell_type": "markdown",
   "metadata": {},
   "source": [
    "  "
   ]
  },
  {
   "cell_type": "markdown",
   "metadata": {},
   "source": [
    "  "
   ]
  },
  {
   "cell_type": "markdown",
   "metadata": {},
   "source": [
    "## 6. Data preparation"
   ]
  },
  {
   "cell_type": "markdown",
   "metadata": {},
   "source": [
    "#### 6.1 Scalling the data"
   ]
  },
  {
   "cell_type": "code",
   "execution_count": 107,
   "metadata": {
    "colab": {},
    "colab_type": "code",
    "id": "7x6lb6GPQsSW"
   },
   "outputs": [],
   "source": [
    "X=data.copy()"
   ]
  },
  {
   "cell_type": "code",
   "execution_count": 108,
   "metadata": {
    "colab": {},
    "colab_type": "code",
    "id": "N_sfWe43Q3So"
   },
   "outputs": [],
   "source": [
    "y=X.pop('status')"
   ]
  },
  {
   "cell_type": "code",
   "execution_count": 109,
   "metadata": {
    "colab": {
     "base_uri": "https://localhost:8080/",
     "height": 102
    },
    "colab_type": "code",
    "id": "F4mWG0VqQ9TJ",
    "outputId": "5698b6e8-c723-48c3-d7f0-a10da74894ff"
   },
   "outputs": [
    {
     "data": {
      "text/plain": [
       "Index(['Avg_vocal_freq', 'Highest_vocal_freq', 'Lowest_vocal_freq', 'Jitter%',\n",
       "       'Jitter_abs', 'RAP', 'PPQ', 'DDP', 'Shimmer', 'Shimmer_dB', 'APQ3',\n",
       "       'APQ5', 'APQ', 'DDA', 'NHR', 'HNR', 'RPDE', 'DFA', 'spread1', 'spread2',\n",
       "       'D2', 'PPE'],\n",
       "      dtype='object')"
      ]
     },
     "execution_count": 109,
     "metadata": {},
     "output_type": "execute_result"
    }
   ],
   "source": [
    "X.columns"
   ]
  },
  {
   "cell_type": "markdown",
   "metadata": {},
   "source": [
    "**Since the attributes are measured at different scale, we will first scale the data using MINMAX scaler**"
   ]
  },
  {
   "cell_type": "code",
   "execution_count": 110,
   "metadata": {
    "colab": {},
    "colab_type": "code",
    "id": "ckNmrhkPQ_nc"
   },
   "outputs": [],
   "source": [
    "to_scaled_minmax=transform_minmaxscaler(X)"
   ]
  },
  {
   "cell_type": "code",
   "execution_count": 111,
   "metadata": {
    "colab": {},
    "colab_type": "code",
    "id": "pD4vyZ0EWzEm"
   },
   "outputs": [],
   "source": [
    "to_scaled_minmax.columns=['Avg_vocal_freq', 'Highest_vocal_freq', 'Lowest_vocal_freq', 'Jitter%',\n",
    "       'Jitter_abs', 'RAP', 'PPQ', 'DDP', 'Shimmer', 'Shimmer_dB', 'APQ3',\n",
    "       'APQ5', 'APQ', 'DDA', 'NHR', 'HNR', 'RPDE', 'DFA', 'spread1', 'spread2',\n",
    "       'D2', 'PPE']"
   ]
  },
  {
   "cell_type": "markdown",
   "metadata": {},
   "source": [
    "  "
   ]
  },
  {
   "cell_type": "markdown",
   "metadata": {},
   "source": [
    "#### 6.2 Calculating VIF"
   ]
  },
  {
   "cell_type": "code",
   "execution_count": 57,
   "metadata": {},
   "outputs": [
    {
     "name": "stdout",
     "output_type": "stream",
     "text": [
      "Avg_vocal_freq  VIF =  21.09\n",
      "Highest_vocal_freq  VIF =  3.27\n",
      "Lowest_vocal_freq  VIF =  5.22\n",
      "Jitter%  VIF =  361.18\n",
      "Jitter_abs  VIF =  99.13\n",
      "RAP  VIF =  2478064.31\n",
      "PPQ  VIF =  199.19\n",
      "DDP  VIF =  2479913.02\n",
      "Shimmer  VIF =  1612.23\n",
      "Shimmer_dB  VIF =  198.57\n",
      "APQ3  VIF =  32699972.28\n",
      "APQ5  VIF =  215.99\n",
      "APQ  VIF =  123.71\n",
      "DDA  VIF =  32688698.85\n",
      "NHR  VIF =  15.45\n",
      "HNR  VIF =  25.86\n",
      "RPDE  VIF =  14.1\n",
      "DFA  VIF =  18.41\n",
      "spread1  VIF =  109.38\n",
      "spread2  VIF =  21.84\n",
      "D2  VIF =  20.91\n",
      "PPE  VIF =  119.5\n"
     ]
    }
   ],
   "source": [
    "## Loop 1 running VIF\n",
    "vif_cal(to_scaled_minmax)"
   ]
  },
  {
   "cell_type": "markdown",
   "metadata": {},
   "source": [
    "##### As mentioned earlier, since the variables are derived, we expected multicollinearity and it is the case here as indicated above"
   ]
  },
  {
   "cell_type": "markdown",
   "metadata": {},
   "source": [
    "#### **Note-: Since due to lack of time at my end, I was not able to create a VIF function which will first calculate VIF for all variables first then will remove the variable with highest VIF and again calculate VIF and repeat the process again till all the variables are having VIF<10. I'm going to run the loop manually using a VIF_cal function I had created to calculate VIF and then will remove variable with highest VIF and will repeat the process till all the variables are having VIF<10**"
   ]
  },
  {
   "cell_type": "code",
   "execution_count": 86,
   "metadata": {},
   "outputs": [
    {
     "name": "stdout",
     "output_type": "stream",
     "text": [
      "Avg_vocal_freq  VIF =  6.22\n",
      "Highest_vocal_freq  VIF =  2.66\n",
      "Lowest_vocal_freq  VIF =  4.26\n",
      "APQ  VIF =  4.7\n",
      "NHR  VIF =  3.01\n",
      "RPDE  VIF =  5.15\n",
      "DFA  VIF =  4.87\n"
     ]
    }
   ],
   "source": [
    "## Loop 2 Revmoing APQ3 \n",
    "## Loop 3 Removing DDP\n",
    "## Loop 4 Removing Shimmer\n",
    "## Loop 5 Removing Jitter%\n",
    "## Loop 6 Removing Shimmer_dB\n",
    "## Loop 7 Removing RAP\n",
    "## Loop 8 Removing spread1\n",
    "## Loop 9 Removing APQ5\n",
    "## Loop 10 Removing PPQ\n",
    "## Loop 11 Removing PPE\n",
    "## Loop 12 Removing spread2\n",
    "## Loop 13 Removing HNR\n",
    "## Loop 14 Removing Jitter_abs\n",
    "## Loop 15 Removing DDA\n",
    "## Loop 16 Removing D2\n",
    "vif_data=to_scaled_minmax[to_scaled_minmax.columns[~to_scaled_minmax.columns.isin(['APQ3',\n",
    "                                                                                   'DDP',\n",
    "                                                                                   'Shimmer',\n",
    "                                                                                   'Jitter%',\n",
    "                                                                                   'Shimmer_dB',\n",
    "                                                                                   'RAP',\n",
    "                                                                                   'spread1',\n",
    "                                                                                   'APQ5',\n",
    "                                                                                   'PPQ',\n",
    "                                                                                   'PPE',\n",
    "                                                                                   'spread2',\n",
    "                                                                                   'HNR',\n",
    "                                                                                   'Jitter_abs',\n",
    "                                                                                   'DDA',\n",
    "                                                                                   'D2'])]]\n",
    "vif_cal(vif_data)"
   ]
  },
  {
   "cell_type": "markdown",
   "metadata": {},
   "source": [
    "#### **All the above variables are having VIF less than 10, we are good to continue with this set of variables**"
   ]
  },
  {
   "cell_type": "code",
   "execution_count": 13,
   "metadata": {},
   "outputs": [],
   "source": [
    "## Final dataframe independent variables after running VIF\n",
    "df=to_scaled_minmax[['Avg_vocal_freq','Highest_vocal_freq','Lowest_vocal_freq','APQ','NHR','RPDE','DFA']]"
   ]
  },
  {
   "cell_type": "markdown",
   "metadata": {},
   "source": [
    " "
   ]
  },
  {
   "cell_type": "markdown",
   "metadata": {},
   "source": [
    "#### 6.3 Splitting data into Train & Test and 1 & 0 distribution across main dataframe, Trainset and Testset"
   ]
  },
  {
   "cell_type": "code",
   "execution_count": 115,
   "metadata": {},
   "outputs": [],
   "source": [
    "from sklearn.model_selection import train_test_split\n",
    "X_train,X_test,Y_train,Y_test = train_test_split(df, y, test_size=0.3, random_state=0)"
   ]
  },
  {
   "cell_type": "code",
   "execution_count": 116,
   "metadata": {},
   "outputs": [
    {
     "name": "stdout",
     "output_type": "stream",
     "text": [
      "Original PD True Values    : 147 (75.38%)\n",
      "Original PD False Values   : 48 (24.62%)\n",
      "\n",
      "Training PD True Values    : 101 (74.26%)\n",
      "Training PD False Values   : 35 (25.74%)\n",
      "\n",
      "Test PD True Values        : 46 (77.97%)\n",
      "Test PD False Values       : 13 (22.03%)\n",
      "\n"
     ]
    }
   ],
   "source": [
    "print(\"Original PD True Values    : {0} ({1:0.2f}%)\".format(len(data.loc[data['status'] == 1]), (len(data.loc[data['status'] == 1])/len(data.index)) * 100))\n",
    "print(\"Original PD False Values   : {0} ({1:0.2f}%)\".format(len(data.loc[data['status'] == 0]), (len(data.loc[data['status'] == 0])/len(data.index)) * 100))\n",
    "print(\"\")\n",
    "print(\"Training PD True Values    : {0} ({1:0.2f}%)\".format(Y_train.value_counts()[1], (Y_train.value_counts()[1]/len(Y_train)) * 100))\n",
    "print(\"Training PD False Values   : {0} ({1:0.2f}%)\".format(Y_train.value_counts()[0], (Y_train.value_counts()[0]/len(Y_train)) * 100))\n",
    "print(\"\")\n",
    "print(\"Test PD True Values        : {0} ({1:0.2f}%)\".format(Y_test.value_counts()[1], (Y_test.value_counts()[1]/len(Y_test)) * 100))\n",
    "print(\"Test PD False Values       : {0} ({1:0.2f}%)\".format(Y_test.value_counts()[0], (Y_test.value_counts()[0]/len(Y_test)) * 100))\n",
    "print(\"\")\n"
   ]
  },
  {
   "cell_type": "markdown",
   "metadata": {},
   "source": [
    "  "
   ]
  },
  {
   "cell_type": "markdown",
   "metadata": {},
   "source": [
    "  "
   ]
  },
  {
   "cell_type": "markdown",
   "metadata": {},
   "source": [
    "## 7. Training models"
   ]
  },
  {
   "cell_type": "markdown",
   "metadata": {},
   "source": [
    "#### 7.1 Logistic regression using function"
   ]
  },
  {
   "cell_type": "code",
   "execution_count": 19,
   "metadata": {},
   "outputs": [
    {
     "name": "stdout",
     "output_type": "stream",
     "text": [
      "\u001b[1m Following results are for Logistic Regression \u001b[0;0m\n",
      "\n",
      "\n",
      "Original PD True Values    : 147 (75.38%)\n",
      "Original PD False Values   : 48 (24.62%)\n",
      "\n",
      "Training PD True Values    : 107 (78.68%)\n",
      "Training PD False Values   : 29 (21.32%)\n",
      "\n",
      "Test PD True Values        : 40 (67.80%)\n",
      "Test PD False Values       : 19 (32.20%)\n",
      "\n",
      "The Model Score is 72.88\n",
      "The Model Score on train set is 84.56\n",
      "The Recall Score for the Model is 100.0\n",
      "The Precision Score for the Model is 71.43\n",
      "The F1 Score for the Model is 83.33\n",
      "\n",
      "\n"
     ]
    },
    {
     "data": {
      "text/plain": [
       "<matplotlib.axes._subplots.AxesSubplot at 0x1e19e05e9e8>"
      ]
     },
     "execution_count": 19,
     "metadata": {},
     "output_type": "execute_result"
    },
    {
     "data": {
      "image/png": "[encoded data removed]",
      "text/plain": [
       "<Figure size 504x360 with 2 Axes>"
      ]
     },
     "metadata": {
      "needs_background": "light"
     },
     "output_type": "display_data"
    }
   ],
   "source": [
    "run_my_model_log(data,df,y)"
   ]
  },
  {
   "cell_type": "markdown",
   "metadata": {},
   "source": [
    "Logistic Regression Model is marginally overfitting, since Model score on train set is 85% while on the test set it is 73%. Also due to target variable imbalance, we can see the Recall score is 100%. Mode"
   ]
  },
  {
   "cell_type": "markdown",
   "metadata": {},
   "source": [
    "#### 7.2 KNN using function"
   ]
  },
  {
   "cell_type": "code",
   "execution_count": 117,
   "metadata": {},
   "outputs": [
    {
     "name": "stdout",
     "output_type": "stream",
     "text": [
      "\u001b[1m Following results are for KNN  \u001b[0;0m\n",
      "\n",
      "\n",
      "The Model Accuracy Score on train set is 1.0\n",
      "\n",
      "\n",
      "Accuracy =  0.9830508474576272\n",
      "Precision =  0.975609756097561\n",
      "Recall =  1.0\n",
      "F1 Score =  0.9876543209876543\n",
      "\n",
      "\n",
      "Confusion Matrix\n",
      "\n",
      "\n",
      "Actual      0   1\n",
      "Predicted        \n",
      "0          18   0\n",
      "1           1  40\n"
     ]
    }
   ],
   "source": [
    "run_my_model_knn(df,y,3)"
   ]
  },
  {
   "cell_type": "markdown",
   "metadata": {},
   "source": [
    "KNN model is fitting the trainset exceptionally well. Model score on train set is approx 1 and model score on testset is 98%. "
   ]
  },
  {
   "cell_type": "markdown",
   "metadata": {},
   "source": [
    "#### 7.3 Navie Bayes using function"
   ]
  },
  {
   "cell_type": "code",
   "execution_count": 143,
   "metadata": {},
   "outputs": [
    {
     "name": "stdout",
     "output_type": "stream",
     "text": [
      "\u001b[1m Following results are for Navie Bayes Classifier \u001b[0;0m\n",
      "\n",
      "\n",
      "The Model Accuracy Score on train set is 0.75\n",
      "\n",
      "\n",
      "Accuracy =  0.6271186440677966\n",
      "Precision =  0.7647058823529411\n",
      "Recall =  0.65\n",
      "F1 Score =  0.7027027027027027\n",
      "\n",
      "\n",
      "Confusion Matrix\n",
      "\n",
      "\n",
      "Actual      0   1\n",
      "Predicted        \n",
      "0          11  14\n",
      "1           8  26\n"
     ]
    }
   ],
   "source": [
    "run_my_model_nb(df,y)"
   ]
  },
  {
   "cell_type": "markdown",
   "metadata": {},
   "source": [
    "   "
   ]
  },
  {
   "cell_type": "markdown",
   "metadata": {},
   "source": [
    "#### 7.4 SVM using function"
   ]
  },
  {
   "cell_type": "code",
   "execution_count": 121,
   "metadata": {},
   "outputs": [
    {
     "name": "stdout",
     "output_type": "stream",
     "text": [
      "\u001b[1m Following results are for SVM Classifier \u001b[0;0m\n",
      "\n",
      "\n",
      "The Model Accuracy Score on train set is 0.85\n",
      "\n",
      "\n",
      "Accuracy =  0.7457627118644068\n",
      "Precision =  0.7272727272727273\n",
      "Recall =  1.0\n",
      "F1 Score =  0.8421052631578948\n",
      "\n",
      "\n",
      "Confusion Matrix\n",
      "\n",
      "\n",
      "Actual      0   1\n",
      "Predicted        \n",
      "0           4   0\n",
      "1          15  40\n"
     ]
    }
   ],
   "source": [
    "run_my_model_svm(df,y,'scale',1)"
   ]
  },
  {
   "cell_type": "markdown",
   "metadata": {},
   "source": [
    "#### Hypertuning SVM parameters"
   ]
  },
  {
   "cell_type": "code",
   "execution_count": 124,
   "metadata": {},
   "outputs": [],
   "source": [
    "# defining parameter range \n",
    "param_grid = {'C': [0.1, 1, 10, 100, 1000],  \n",
    "              'gamma': [0.1, 0.01, 0.001, 0.0001,1]}  "
   ]
  },
  {
   "cell_type": "code",
   "execution_count": 125,
   "metadata": {},
   "outputs": [],
   "source": [
    "grid_search_SVM = GridSearchCV(svm.SVC(kernel='rbf'), param_grid, cv=3)\n",
    "grid_fit_SVM=grid_search_SVM.fit(X_train, Y_train)"
   ]
  },
  {
   "cell_type": "code",
   "execution_count": 126,
   "metadata": {},
   "outputs": [],
   "source": [
    "best_clf_SVM=grid_fit_SVM.best_estimator_"
   ]
  },
  {
   "cell_type": "code",
   "execution_count": 127,
   "metadata": {},
   "outputs": [
    {
     "data": {
      "text/plain": [
       "SVC(C=1000, break_ties=False, cache_size=200, class_weight=None, coef0=0.0,\n",
       "    decision_function_shape='ovr', degree=3, gamma=0.0001, kernel='rbf',\n",
       "    max_iter=-1, probability=False, random_state=None, shrinking=True,\n",
       "    tol=0.001, verbose=False)"
      ]
     },
     "execution_count": 127,
     "metadata": {},
     "output_type": "execute_result"
    }
   ],
   "source": [
    "best_clf_SVM"
   ]
  },
  {
   "cell_type": "code",
   "execution_count": 130,
   "metadata": {},
   "outputs": [
    {
     "name": "stdout",
     "output_type": "stream",
     "text": [
      "The Model Accuracy Score on train set is 0.99\n",
      "The training F1 Score is 0.9950738916256158\n",
      "The testing F1 Score is 0.967032967032967\n",
      "Accuracy =  0.9491525423728814\n",
      "Precision =  0.9777777777777777\n",
      "Recall =  0.9565217391304348\n",
      "Confusion Matrix\n",
      "\n",
      "\n",
      "Actual      0   1\n",
      "Predicted        \n",
      "0          12   2\n",
      "1           1  44\n"
     ]
    }
   ],
   "source": [
    "best_clf_SVM.fit(X_train, Y_train)\n",
    "\n",
    "# Make predictions using the new model.\n",
    "best_train_predictions = best_clf_SVM.predict(X_train)\n",
    "best_test_predictions = best_clf_SVM.predict(X_test)\n",
    "\n",
    "#Model score on train set\n",
    "model_score_train_svm=accuracy_score(Y_train,best_clf_SVM.predict(X_train))\n",
    "print('The Model Accuracy Score on train set is {}'.format(round(model_score_train_svm,2)))\n",
    "\n",
    "# Calculate the f1_score of the new model.\n",
    "print('The training F1 Score is', f1_score(best_train_predictions, Y_train))\n",
    "print('The testing F1 Score is', f1_score(best_test_predictions, Y_test))\n",
    "\n",
    "print(\"Accuracy = \" , accuracy_score(Y_test, best_test_predictions))\n",
    "print(\"Precision = \" ,precision_score(Y_test, best_test_predictions))\n",
    "print(\"Recall = \" ,recall_score(Y_test, best_test_predictions))\n",
    "\n",
    "\n",
    "conf_mat=pd.crosstab(best_test_predictions, Y_test, rownames=['Predicted'], colnames=['Actual'])\n",
    "print('Confusion Matrix')\n",
    "print(\"\\n\")\n",
    "print(conf_mat)"
   ]
  },
  {
   "cell_type": "markdown",
   "metadata": {},
   "source": [
    "The final SVM model after hypertuning the parameters has accuracy on trainset as 99% and on testset as 95%. While the F-1 score is 97%"
   ]
  },
  {
   "cell_type": "markdown",
   "metadata": {},
   "source": [
    "  "
   ]
  },
  {
   "cell_type": "markdown",
   "metadata": {},
   "source": [
    "#### 7.5 Decision tree"
   ]
  },
  {
   "cell_type": "code",
   "execution_count": 132,
   "metadata": {},
   "outputs": [],
   "source": [
    "## Decision tree object\n",
    "clf = dt()"
   ]
  },
  {
   "cell_type": "code",
   "execution_count": 133,
   "metadata": {},
   "outputs": [],
   "source": [
    "# Fit the model\n",
    "clf.fit(X_train, Y_train)\n",
    "\n",
    "# Make predictions\n",
    "train_predictions = clf.predict(X_train)\n",
    "test_predictions = clf.predict(X_test)"
   ]
  },
  {
   "cell_type": "code",
   "execution_count": 134,
   "metadata": {},
   "outputs": [
    {
     "data": {
      "text/plain": [
       "DecisionTreeClassifier(ccp_alpha=0.0, class_weight=None, criterion='gini',\n",
       "                       max_depth=None, max_features=None, max_leaf_nodes=None,\n",
       "                       min_impurity_decrease=0.0, min_impurity_split=None,\n",
       "                       min_samples_leaf=1, min_samples_split=2,\n",
       "                       min_weight_fraction_leaf=0.0, presort='deprecated',\n",
       "                       random_state=None, splitter='best')"
      ]
     },
     "execution_count": 134,
     "metadata": {},
     "output_type": "execute_result"
    }
   ],
   "source": [
    "clf"
   ]
  },
  {
   "cell_type": "code",
   "execution_count": 135,
   "metadata": {},
   "outputs": [
    {
     "name": "stdout",
     "output_type": "stream",
     "text": [
      "Accuracy =  1.0\n",
      "Precision =  1.0\n",
      "Recall =  1.0\n",
      "F1 Score =  1.0\n"
     ]
    }
   ],
   "source": [
    "generate_model_report(Y_test,test_predictions)"
   ]
  },
  {
   "cell_type": "code",
   "execution_count": 136,
   "metadata": {},
   "outputs": [
    {
     "name": "stdout",
     "output_type": "stream",
     "text": [
      "Accuracy =  1.0\n",
      "Precision =  1.0\n",
      "Recall =  1.0\n",
      "F1 Score =  1.0\n"
     ]
    }
   ],
   "source": [
    "generate_model_report(Y_train,train_predictions)"
   ]
  },
  {
   "cell_type": "code",
   "execution_count": 137,
   "metadata": {},
   "outputs": [
    {
     "name": "stdout",
     "output_type": "stream",
     "text": [
      "Confusion Matrix\n",
      "\n",
      "\n",
      "Actual      0   1\n",
      "Predicted        \n",
      "0          13   0\n",
      "1           0  46\n"
     ]
    }
   ],
   "source": [
    "conf_mat=pd.crosstab(test_predictions, Y_test, rownames=['Predicted'], colnames=['Actual'])\n",
    "print('Confusion Matrix')\n",
    "print(\"\\n\")\n",
    "print(conf_mat)"
   ]
  },
  {
   "cell_type": "markdown",
   "metadata": {},
   "source": [
    "  \n",
    "  \n",
    "  \n",
    "  "
   ]
  },
  {
   "cell_type": "markdown",
   "metadata": {},
   "source": [
    "  "
   ]
  },
  {
   "cell_type": "markdown",
   "metadata": {},
   "source": [
    "## 8. Creating meta-classifier"
   ]
  },
  {
   "cell_type": "code",
   "execution_count": 163,
   "metadata": {},
   "outputs": [],
   "source": [
    "estimators = [('dt', dt(random_state=1)),('knn',KNeighborsClassifier(n_neighbors=3)),\n",
    "              ('svc',SVC(C=1.0, kernel='rbf', gamma='scale')) ]"
   ]
  },
  {
   "cell_type": "code",
   "execution_count": 164,
   "metadata": {},
   "outputs": [],
   "source": [
    "meta_clf = StackingClassifier(estimators=estimators, final_estimator=LogisticRegression())"
   ]
  },
  {
   "cell_type": "code",
   "execution_count": 166,
   "metadata": {},
   "outputs": [
    {
     "name": "stdout",
     "output_type": "stream",
     "text": [
      "The Model Accuracy Score on train set is 1.0\n",
      "\n",
      "\n",
      "Accuracy =  1.0\n",
      "Precision =  1.0\n",
      "Recall =  1.0\n",
      "F1 Score =  1.0\n",
      "\n",
      "\n",
      "Confusion Matrix\n",
      "\n",
      "\n",
      "Actual      0   1\n",
      "Predicted        \n",
      "0          13   0\n",
      "1           0  46\n"
     ]
    }
   ],
   "source": [
    "meta_clf.fit(X_train, Y_train)\n",
    "model_score_train_metaclf=accuracy_score(Y_train,meta_clf.predict(X_train))\n",
    "print('The Model Accuracy Score on train set is {}'.format(round(model_score_train_metaclf,2)))\n",
    "print(\"\\n\")\n",
    "\n",
    "y_predict=meta_clf.predict(X_test)\n",
    "generate_model_report(Y_test,y_predict)\n",
    "print(\"\\n\")\n",
    "conf_mat=pd.crosstab(y_predict, Y_test, rownames=['Predicted'], colnames=['Actual'])\n",
    "print('Confusion Matrix')\n",
    "print(\"\\n\")\n",
    "print(conf_mat)\n"
   ]
  },
  {
   "cell_type": "markdown",
   "metadata": {},
   "source": [
    "  "
   ]
  },
  {
   "cell_type": "markdown",
   "metadata": {},
   "source": [
    "  "
   ]
  },
  {
   "cell_type": "markdown",
   "metadata": {},
   "source": [
    "## 9. Training Ensemble models"
   ]
  },
  {
   "cell_type": "markdown",
   "metadata": {},
   "source": [
    "#### 9.1 Random Forest"
   ]
  },
  {
   "cell_type": "code",
   "execution_count": 138,
   "metadata": {},
   "outputs": [],
   "source": [
    "rf=RandomForestClassifier(random_state=10)"
   ]
  },
  {
   "cell_type": "code",
   "execution_count": 139,
   "metadata": {},
   "outputs": [
    {
     "name": "stdout",
     "output_type": "stream",
     "text": [
      "{'bootstrap': True, 'ccp_alpha': 0.0, 'class_weight': None, 'criterion': 'gini', 'max_depth': None, 'max_features': 'auto', 'max_leaf_nodes': None, 'max_samples': None, 'min_impurity_decrease': 0.0, 'min_impurity_split': None, 'min_samples_leaf': 1, 'min_samples_split': 2, 'min_weight_fraction_leaf': 0.0, 'n_estimators': 100, 'n_jobs': None, 'oob_score': False, 'random_state': 10, 'verbose': 0, 'warm_start': False}\n"
     ]
    }
   ],
   "source": [
    "print(rf.get_params())"
   ]
  },
  {
   "cell_type": "code",
   "execution_count": 140,
   "metadata": {},
   "outputs": [],
   "source": [
    "# Number of trees in random forest\n",
    "n_estimators = [50,100,150]\n",
    "# Number of features to consider at every split\n",
    "max_features = [1, 2, 3]\n",
    "# Maximum number of levels in tree\n",
    "max_depth = [1,2,3,4]\n",
    "# Minimum number of samples required to split a node\n",
    "min_samples_split = [2, 5, 10]\n",
    "# Minimum number of samples required at each leaf node\n",
    "min_samples_leaf = [1, 3, 7]\n",
    "# Method of selecting samples for training each tree\n",
    "bootstrap = [True]"
   ]
  },
  {
   "cell_type": "code",
   "execution_count": 141,
   "metadata": {},
   "outputs": [],
   "source": [
    "# Create the random grid\n",
    "param_grid = {'n_estimators': n_estimators,\n",
    "               'max_features': max_features,\n",
    "               'max_depth': max_depth,\n",
    "               'min_samples_split': min_samples_split,\n",
    "               'min_samples_leaf': min_samples_leaf,\n",
    "               'bootstrap': bootstrap}"
   ]
  },
  {
   "cell_type": "code",
   "execution_count": 143,
   "metadata": {},
   "outputs": [],
   "source": [
    "# Instantiate the grid search model\n",
    "scorer = make_scorer(f1_score)\n",
    "grid_search_rf = GridSearchCV(estimator = rf, param_grid = param_grid,scoring=scorer,\n",
    "                          cv = 3, n_jobs = 4, verbose = 1)"
   ]
  },
  {
   "cell_type": "code",
   "execution_count": 144,
   "metadata": {},
   "outputs": [
    {
     "name": "stdout",
     "output_type": "stream",
     "text": [
      "Fitting 3 folds for each of 324 candidates, totalling 972 fits\n"
     ]
    },
    {
     "name": "stderr",
     "output_type": "stream",
     "text": [
      "[Parallel(n_jobs=4)]: Using backend LokyBackend with 4 concurrent workers.\n",
      "[Parallel(n_jobs=4)]: Done  42 tasks      | elapsed:   17.3s\n",
      "[Parallel(n_jobs=4)]: Done 192 tasks      | elapsed:   43.9s\n",
      "[Parallel(n_jobs=4)]: Done 442 tasks      | elapsed:  1.5min\n",
      "[Parallel(n_jobs=4)]: Done 792 tasks      | elapsed:  2.5min\n",
      "[Parallel(n_jobs=4)]: Done 972 out of 972 | elapsed:  3.1min finished\n"
     ]
    }
   ],
   "source": [
    "# Fit the grid search to the data\n",
    "grid_fit_rf=grid_search_rf.fit(X_train, Y_train)"
   ]
  },
  {
   "cell_type": "code",
   "execution_count": null,
   "metadata": {},
   "outputs": [],
   "source": [
    "grid_obj = GridSearchCV(clf, parameters, scoring=scorer)\n",
    "grid_fit = grid_obj.fit(X_train, Y_train)\n",
    "best_clf = grid_fit.best_estimator_"
   ]
  },
  {
   "cell_type": "code",
   "execution_count": 147,
   "metadata": {},
   "outputs": [],
   "source": [
    "best_clf_rf=grid_fit_rf.best_estimator_"
   ]
  },
  {
   "cell_type": "code",
   "execution_count": 148,
   "metadata": {},
   "outputs": [
    {
     "data": {
      "text/plain": [
       "RandomForestClassifier(bootstrap=True, ccp_alpha=0.0, class_weight=None,\n",
       "                       criterion='gini', max_depth=4, max_features=3,\n",
       "                       max_leaf_nodes=None, max_samples=None,\n",
       "                       min_impurity_decrease=0.0, min_impurity_split=None,\n",
       "                       min_samples_leaf=1, min_samples_split=2,\n",
       "                       min_weight_fraction_leaf=0.0, n_estimators=100,\n",
       "                       n_jobs=None, oob_score=False, random_state=10, verbose=0,\n",
       "                       warm_start=False)"
      ]
     },
     "execution_count": 148,
     "metadata": {},
     "output_type": "execute_result"
    }
   ],
   "source": [
    "best_clf_rf"
   ]
  },
  {
   "cell_type": "code",
   "execution_count": 149,
   "metadata": {},
   "outputs": [
    {
     "data": {
      "text/plain": [
       "0.9481285381285381"
      ]
     },
     "execution_count": 149,
     "metadata": {},
     "output_type": "execute_result"
    }
   ],
   "source": [
    "scores = cross_val_score(best_clf_rf, X_train, Y_train, cv=5, scoring='f1_macro')\n",
    "scores.mean()"
   ]
  },
  {
   "cell_type": "code",
   "execution_count": 150,
   "metadata": {},
   "outputs": [
    {
     "name": "stdout",
     "output_type": "stream",
     "text": [
      "The training F1 Score is 1.0\n",
      "The testing F1 Score is 1.0\n",
      "Confusion Matrix\n",
      "\n",
      "\n",
      "Actual      0   1\n",
      "Predicted        \n",
      "0          13   0\n",
      "1           0  46\n"
     ]
    }
   ],
   "source": [
    "best_clf_rf.fit(X_train, Y_train)\n",
    "\n",
    "# Make predictions using the new model.\n",
    "best_train_predictions = best_clf_rf.predict(X_train)\n",
    "best_test_predictions = best_clf_rf.predict(X_test)\n",
    "\n",
    "# Calculate the f1_score of the new model.\n",
    "print('The training F1 Score is', f1_score(best_train_predictions, Y_train))\n",
    "print('The testing F1 Score is', f1_score(best_test_predictions, Y_test)\n",
    "\n",
    "conf_mat_dt=pd.crosstab(best_test_predictions, Y_test, rownames=['Predicted'], colnames=['Actual'])\n",
    "print('Confusion Matrix')\n",
    "print(\"\\n\")\n",
    "print(conf_mat_dt)"
   ]
  },
  {
   "cell_type": "code",
   "execution_count": 151,
   "metadata": {},
   "outputs": [
    {
     "name": "stdout",
     "output_type": "stream",
     "text": [
      "Accuracy =  1.0\n",
      "Precision =  1.0\n",
      "Recall =  1.0\n",
      "F1 Score =  1.0\n"
     ]
    }
   ],
   "source": [
    "generate_model_report(Y_test,best_test_predictions)"
   ]
  },
  {
   "cell_type": "code",
   "execution_count": 152,
   "metadata": {},
   "outputs": [
    {
     "name": "stdout",
     "output_type": "stream",
     "text": [
      "Accuracy =  1.0\n",
      "Precision =  1.0\n",
      "Recall =  1.0\n",
      "F1 Score =  1.0\n"
     ]
    }
   ],
   "source": [
    "generate_model_report(Y_train,best_train_predictions)"
   ]
  },
  {
   "cell_type": "markdown",
   "metadata": {},
   "source": [
    "  "
   ]
  },
  {
   "cell_type": "markdown",
   "metadata": {},
   "source": [
    "#### 9.2 Gradient Boosting"
   ]
  },
  {
   "cell_type": "code",
   "execution_count": 168,
   "metadata": {},
   "outputs": [
    {
     "name": "stdout",
     "output_type": "stream",
     "text": [
      "Learning rate:  0.05\n",
      "Accuracy score (training): 0.912\n",
      "Accuracy score (validation): 0.932\n",
      "Learning rate:  0.075\n",
      "Accuracy score (training): 0.971\n",
      "Accuracy score (validation): 0.983\n",
      "Learning rate:  0.1\n",
      "Accuracy score (training): 0.993\n",
      "Accuracy score (validation): 0.983\n",
      "Learning rate:  0.25\n",
      "Accuracy score (training): 1.000\n",
      "Accuracy score (validation): 1.000\n",
      "Learning rate:  0.5\n",
      "Accuracy score (training): 1.000\n",
      "Accuracy score (validation): 1.000\n",
      "Learning rate:  0.75\n",
      "Accuracy score (training): 1.000\n",
      "Accuracy score (validation): 1.000\n",
      "Learning rate:  1\n",
      "Accuracy score (training): 1.000\n",
      "Accuracy score (validation): 1.000\n"
     ]
    }
   ],
   "source": [
    "# Finding optimum value for the learning rate which controls overfiiting through a simple for loop\n",
    "lr_list = [0.05, 0.075, 0.1, 0.25, 0.5, 0.75, 1]\n",
    "\n",
    "for learning_rate in lr_list:\n",
    "    gb_clf = GradientBoostingClassifier(n_estimators=20, learning_rate=learning_rate, max_features=2, max_depth=2, random_state=0)\n",
    "    gb_clf.fit(X_train, Y_train)\n",
    "\n",
    "    print(\"Learning rate: \", learning_rate)\n",
    "    print(\"Accuracy score (training): {0:.3f}\".format(gb_clf.score(X_train, Y_train)))\n",
    "    print(\"Accuracy score (validation): {0:.3f}\".format(gb_clf.score(X_test, Y_test)))"
   ]
  },
  {
   "cell_type": "code",
   "execution_count": 180,
   "metadata": {},
   "outputs": [
    {
     "name": "stdout",
     "output_type": "stream",
     "text": [
      "The Model Accuracy Score on train set is 1.0\n",
      "\n",
      "\n",
      "Accuracy =  1.0\n",
      "Precision =  1.0\n",
      "Recall =  1.0\n",
      "F1 Score =  1.0\n",
      "Confusion Matrix\n",
      "\n",
      "\n",
      "Actual      0   1\n",
      "Predicted        \n",
      "0          13   0\n",
      "1           0  46\n"
     ]
    }
   ],
   "source": [
    "gb_clf = GradientBoostingClassifier(n_estimators=20, learning_rate=0.25, max_features=2, max_depth=2, random_state=0)\n",
    "gb_clf.fit(X_train, Y_train)\n",
    "\n",
    "# Make predictions using the new model.\n",
    "gb_train_predictions = gb_clf.predict(X_train)\n",
    "gb_test_predictions = gb_clf.predict(X_test)\n",
    "\n",
    "\n",
    "model_score_train=accuracy_score(Y_train,gb_train_predictions)\n",
    "print('The Model Accuracy Score on train set is {}'.format(round(model_score_train,2)))\n",
    "print(\"\\n\")\n",
    "\n",
    "generate_model_report(Y_test,gb_test_predictions)\n",
    "\n",
    "\n",
    "conf_matrix=pd.crosstab(gb_test_predictions, Y_test, rownames=['Predicted'], colnames=['Actual'])\n",
    "print('Confusion Matrix')\n",
    "print(\"\\n\")\n",
    "print(conf_matrix)"
   ]
  },
  {
   "cell_type": "markdown",
   "metadata": {},
   "source": [
    "    "
   ]
  },
  {
   "cell_type": "markdown",
   "metadata": {},
   "source": [
    "  "
   ]
  },
  {
   "cell_type": "markdown",
   "metadata": {},
   "source": [
    "## 10. Final results"
   ]
  },
  {
   "cell_type": "code",
   "execution_count": 187,
   "metadata": {},
   "outputs": [],
   "source": [
    "acc=pd.DataFrame({'Technique':['Logistic','KNN','Navie Bayes','SVM','Decision Tree','Meta Classifier','Random Forest','Gradient Boosting'],\n",
    "                  'Accuracy-Trainset':[0.85,1,0.75,0.99,1,1,1,1],\n",
    "                 'Accuracy-Testset':[0.72,0.98,0.63,0.95,1,1,1,1],\n",
    "                 'F1-Score Testset':[0.83,0.99,0.70,0.97,1,1,1,1],\n",
    "                  'Recall-Score Testset':[1,1,0.65,0.96,1,1,1,1]})"
   ]
  },
  {
   "cell_type": "code",
   "execution_count": 188,
   "metadata": {},
   "outputs": [
    {
     "data": {
      "text/html": [
       "<div>\n",
       "<style scoped>\n",
       "    .dataframe tbody tr th:only-of-type {\n",
       "        vertical-align: middle;\n",
       "    }\n",
       "\n",
       "    .dataframe tbody tr th {\n",
       "        vertical-align: top;\n",
       "    }\n",
       "\n",
       "    .dataframe thead th {\n",
       "        text-align: right;\n",
       "    }\n",
       "</style>\n",
       "<table border=\"1\" class=\"dataframe\">\n",
       "  <thead>\n",
       "    <tr style=\"text-align: right;\">\n",
       "      <th></th>\n",
       "      <th>Technique</th>\n",
       "      <th>Accuracy-Trainset</th>\n",
       "      <th>Accuracy-Testset</th>\n",
       "      <th>F1-Score Testset</th>\n",
       "      <th>Recall-Score Testset</th>\n",
       "    </tr>\n",
       "  </thead>\n",
       "  <tbody>\n",
       "    <tr>\n",
       "      <th>0</th>\n",
       "      <td>Logistic</td>\n",
       "      <td>0.85</td>\n",
       "      <td>0.72</td>\n",
       "      <td>0.83</td>\n",
       "      <td>1.00</td>\n",
       "    </tr>\n",
       "    <tr>\n",
       "      <th>1</th>\n",
       "      <td>KNN</td>\n",
       "      <td>1.00</td>\n",
       "      <td>0.98</td>\n",
       "      <td>0.99</td>\n",
       "      <td>1.00</td>\n",
       "    </tr>\n",
       "    <tr>\n",
       "      <th>2</th>\n",
       "      <td>Navie Bayes</td>\n",
       "      <td>0.75</td>\n",
       "      <td>0.63</td>\n",
       "      <td>0.70</td>\n",
       "      <td>0.65</td>\n",
       "    </tr>\n",
       "    <tr>\n",
       "      <th>3</th>\n",
       "      <td>SVM</td>\n",
       "      <td>0.99</td>\n",
       "      <td>0.95</td>\n",
       "      <td>0.97</td>\n",
       "      <td>0.96</td>\n",
       "    </tr>\n",
       "    <tr>\n",
       "      <th>4</th>\n",
       "      <td>Decision Tree</td>\n",
       "      <td>1.00</td>\n",
       "      <td>1.00</td>\n",
       "      <td>1.00</td>\n",
       "      <td>1.00</td>\n",
       "    </tr>\n",
       "    <tr>\n",
       "      <th>5</th>\n",
       "      <td>Meta Classifier</td>\n",
       "      <td>1.00</td>\n",
       "      <td>1.00</td>\n",
       "      <td>1.00</td>\n",
       "      <td>1.00</td>\n",
       "    </tr>\n",
       "    <tr>\n",
       "      <th>6</th>\n",
       "      <td>Random Forest</td>\n",
       "      <td>1.00</td>\n",
       "      <td>1.00</td>\n",
       "      <td>1.00</td>\n",
       "      <td>1.00</td>\n",
       "    </tr>\n",
       "    <tr>\n",
       "      <th>7</th>\n",
       "      <td>Gradient Boosting</td>\n",
       "      <td>1.00</td>\n",
       "      <td>1.00</td>\n",
       "      <td>1.00</td>\n",
       "      <td>1.00</td>\n",
       "    </tr>\n",
       "  </tbody>\n",
       "</table>\n",
       "</div>"
      ],
      "text/plain": [
       "           Technique  Accuracy-Trainset  Accuracy-Testset  F1-Score Testset  \\\n",
       "0           Logistic               0.85              0.72              0.83   \n",
       "1                KNN               1.00              0.98              0.99   \n",
       "2        Navie Bayes               0.75              0.63              0.70   \n",
       "3                SVM               0.99              0.95              0.97   \n",
       "4      Decision Tree               1.00              1.00              1.00   \n",
       "5    Meta Classifier               1.00              1.00              1.00   \n",
       "6      Random Forest               1.00              1.00              1.00   \n",
       "7  Gradient Boosting               1.00              1.00              1.00   \n",
       "\n",
       "   Recall-Score Testset  \n",
       "0                  1.00  \n",
       "1                  1.00  \n",
       "2                  0.65  \n",
       "3                  0.96  \n",
       "4                  1.00  \n",
       "5                  1.00  \n",
       "6                  1.00  \n",
       "7                  1.00  "
      ]
     },
     "execution_count": 188,
     "metadata": {},
     "output_type": "execute_result"
    }
   ],
   "source": [
    "acc"
   ]
  },
  {
   "cell_type": "markdown",
   "metadata": {},
   "source": [
    "### From the above table, it is fairly obvious that the tree based models .i.e Decision tree, Random forest,Gradient boosting have performed well on the Parkinsons problem statement. Considering the following problem statement, I would term Gradient boosting as the best models among all, reason being the amount of time it took to trained the GB model and we had to tune only one parameter to get the required accuracy."
   ]
  },
  {
   "cell_type": "markdown",
   "metadata": {},
   "source": [
    "## Gradient Boosting Algorithm Wins!!"
   ]
  }
 ],
 "metadata": {
  "colab": {
   "collapsed_sections": [],
   "name": "Ensemble Project Ver1.ipynb",
   "provenance": []
  },
  "kernelspec": {
   "display_name": "Python 3",
   "language": "python",
   "name": "python3"
  },
  "language_info": {
   "codemirror_mode": {
    "name": "ipython",
    "version": 3
   },
   "file_extension": ".py",
   "mimetype": "text/x-python",
   "name": "python",
   "nbconvert_exporter": "python",
   "pygments_lexer": "ipython3",
   "version": "3.6.5"
  }
 },
 "nbformat": 4,
 "nbformat_minor": 1
}
